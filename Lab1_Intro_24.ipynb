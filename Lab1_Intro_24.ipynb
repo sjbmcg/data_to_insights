{
  "cells": [
    {
      "cell_type": "markdown",
      "metadata": {
        "id": "view-in-github",
        "colab_type": "text"
      },
      "source": [
        "<a href=\"https://colab.research.google.com/github/sjbmcg/data_to_insights/blob/main/Lab1_Intro_24.ipynb\" target=\"_parent\"><img src=\"https://colab.research.google.com/assets/colab-badge.svg\" alt=\"Open In Colab\"/></a>"
      ]
    },
    {
      "cell_type": "markdown",
      "id": "1831fbc5",
      "metadata": {
        "id": "1831fbc5"
      },
      "source": [
        "# Week 1\n",
        "## Introduction to Data Science"
      ]
    },
    {
      "cell_type": "markdown",
      "id": "2967cd6a",
      "metadata": {
        "id": "2967cd6a"
      },
      "source": [
        "Welcome to the first lab for GEOG5302 Data Science for Practical Applciations! Although you'll be using Python and Jupyter in your Programming for Data Science module, and some of you may have experience of various aspects of programming, today's session is designed for you to familiarise yourself with Jupyter Notebooks and get some practice!"
      ]
    },
    {
      "cell_type": "markdown",
      "id": "7d379a1c",
      "metadata": {
        "id": "7d379a1c"
      },
      "source": [
        "A Jupyter Notebook is _\"an open source web application that you can use to create and share documents that contain live code, equations, visualizations, and text.\"_ [More Info](https://realpython.com/jupyter-notebook-introduction/)\n"
      ]
    },
    {
      "cell_type": "markdown",
      "id": "93e1508d",
      "metadata": {
        "id": "93e1508d"
      },
      "source": [
        "Jupyter Notebooks are made up of a series of _cells_ (the boxes) which can be filled with code, images, or text (in Markdown format. [More info on formatting your Markdown](https://www.markdownguide.org/basic-syntax/))<br>\n",
        "If you hover over a cell, an arrow will appear on the left, for you to _run_ to code. Click on the cell and your cursor will appear, for you to edit or add code."
      ]
    },
    {
      "cell_type": "markdown",
      "id": "0377af8e",
      "metadata": {
        "id": "0377af8e"
      },
      "source": [
        "In this lab, you'll work through a Jupyter Notebook, running sections of code to learn new analysis skills. There will be some places to edit and write your own code, to practice what you've learnt. Helpers are around if you get stuck or if anything isn't clear. There are no silly questions- please just ask!"
      ]
    },
    {
      "cell_type": "markdown",
      "id": "247c7bb1",
      "metadata": {
        "id": "247c7bb1"
      },
      "source": [
        "<br> <br> <br>\n",
        "## Running a Cell"
      ]
    },
    {
      "cell_type": "markdown",
      "id": "666350fc",
      "metadata": {
        "id": "666350fc"
      },
      "source": [
        "To run a cell, first select it, then either: <br>\n",
        "1. Click the arrow that appears to the left of the cell <br>\n",
        "OR <br>\n",
        "2. Use your keyboard. CTRL+ENTER (or COMMAND+ENTER on a Mac)runs and stays in the same cell. SHIFT+ENTER runs and moves to the next cell"
      ]
    },
    {
      "cell_type": "markdown",
      "id": "d7449875",
      "metadata": {
        "id": "d7449875"
      },
      "source": [
        "A code cell that has yet to be run will have empty square brackets on the left: `[]` <br>\n",
        "When a cell has been run, a number will appear in the square brackets. The numbers refer to the order in which the cells have been run. E.g. `[1]` or `[5]`"
      ]
    },
    {
      "cell_type": "markdown",
      "id": "809118cf",
      "metadata": {
        "id": "809118cf"
      },
      "source": [
        "<br> <br> <br>\n",
        "## Editing a Cell"
      ]
    },
    {
      "cell_type": "markdown",
      "id": "e6b7991f",
      "metadata": {
        "id": "e6b7991f"
      },
      "source": [
        "To add a cell, select it, then type 'a' to insert a cell above, 'b' to insert a cell below. <br>\n",
        "The added cell will by default be for code. If you want to switch to Markdown (to add a block of text), tap the 'm' key. <br>\n",
        "You can also use the 'Insert' button in the menu at the top of the page, or hover between cells to see a pop-up, choosing whether you want to add code or text <br>\n",
        "To delete a cell, click the little bin in the pop-up menu that appears at the top right of the selected cell <br>\n",
        "This pop-up menu also allows you to reorder your cells, using the up and down arrows\n"
      ]
    },
    {
      "cell_type": "markdown",
      "id": "f121435a",
      "metadata": {
        "id": "f121435a"
      },
      "source": [
        "You can also add text comments within your blocks of code, which are really useful for explaining what you've done, or why you've chosen a certain command/paramter. This is great for making your code more readable by yourself and other people. Use a hastag `#` to tell Python this is a comment and shouldn't be run.\n",
        "\n",
        "   ` print('I wrote some code!') #the print command uses brackets and quotes`"
      ]
    },
    {
      "cell_type": "markdown",
      "id": "82a15b4f",
      "metadata": {
        "id": "82a15b4f"
      },
      "source": [
        "<br> <br> <br>\n",
        "## What's a Kernel?"
      ]
    },
    {
      "cell_type": "markdown",
      "id": "fd79705b",
      "metadata": {
        "id": "fd79705b"
      },
      "source": [
        "You might also have noticed a menu item at the top of the screen called __Runtime__ (in some formats of Jupyter, this is called a  __Kernel__).\n",
        "A Runtime or Kernel basically keeps track of which code has been run, and which outputs have been produced, within this session. The main way we will be using this is, if you want to clear all your outputs (the pieces of information that Python produces after you run a cell) so you can start from scratch, you can click 'Restart & Clear Output'. If you want to check that your entire code notebook runs through without any issues, you might want to 'Restart & Run All'. Alternatively, if something has gone wrong and Python gets stuck trying to run something, you can 'Interrupt', edit your code, and try again. None of these actions will affect the code you have written, only whether the actions within the code have been completed this time around."
      ]
    },
    {
      "cell_type": "markdown",
      "id": "a0e50af8",
      "metadata": {
        "id": "a0e50af8"
      },
      "source": [
        "<br> <br> <br>\n",
        "## Getting started with some coding"
      ]
    },
    {
      "cell_type": "markdown",
      "id": "02be5e32",
      "metadata": {
        "id": "02be5e32"
      },
      "source": [
        "Now we know the basics of using a Jupyter Notebook, it's time to get coding!"
      ]
    },
    {
      "cell_type": "markdown",
      "id": "4f5c6402",
      "metadata": {
        "id": "4f5c6402"
      },
      "source": [
        "In coding tradition, the first thing we are going to print is `Hello World!`. Run the cell below to see what happens."
      ]
    },
    {
      "cell_type": "code",
      "execution_count": null,
      "id": "aa726938",
      "metadata": {
        "colab": {
          "base_uri": "https://localhost:8080/"
        },
        "id": "aa726938",
        "outputId": "8f45de71-99f4-4c31-979c-b5460deef893"
      },
      "outputs": [
        {
          "output_type": "stream",
          "name": "stdout",
          "text": [
            "Hello World\n"
          ]
        }
      ],
      "source": [
        "print('Hello World')"
      ]
    },
    {
      "cell_type": "markdown",
      "id": "37ea8970",
      "metadata": {
        "id": "37ea8970"
      },
      "source": [
        "The `print()` command prints to your screen. The quotation marks let Python know the data is in a text (technically known as a 'string') format. We can use double or single quotations eg `\"Hello World!\"` or `'Hello World'`, as long as we're consistent each time. <br>\n",
        "Try printing different text in the cell below. What happens if you use mis-matched quotations, or leave them out? You may notice that the cell has a red light when something has gone wrong!"
      ]
    },
    {
      "cell_type": "code",
      "execution_count": null,
      "id": "bcf6d750",
      "metadata": {
        "id": "bcf6d750",
        "outputId": "3f1c237a-d9dd-4f2f-bd4f-201a856d0ed4",
        "colab": {
          "base_uri": "https://localhost:8080/"
        }
      },
      "outputs": [
        {
          "output_type": "stream",
          "name": "stdout",
          "text": [
            "Hello World\n"
          ]
        }
      ],
      "source": [
        "#print with double \" \" quotations\n",
        "print(\"Hello World\")"
      ]
    },
    {
      "cell_type": "code",
      "execution_count": null,
      "id": "4bfcd86c",
      "metadata": {
        "id": "4bfcd86c",
        "outputId": "80eb7595-d090-4e67-faaf-9b41f21bc6a0",
        "colab": {
          "base_uri": "https://localhost:8080/",
          "height": 106
        }
      },
      "outputs": [
        {
          "output_type": "error",
          "ename": "SyntaxError",
          "evalue": "unterminated string literal (detected at line 2) (<ipython-input-121-92148ebb9450>, line 2)",
          "traceback": [
            "\u001b[0;36m  File \u001b[0;32m\"<ipython-input-121-92148ebb9450>\"\u001b[0;36m, line \u001b[0;32m2\u001b[0m\n\u001b[0;31m    print(\"hey')\u001b[0m\n\u001b[0m          ^\u001b[0m\n\u001b[0;31mSyntaxError\u001b[0m\u001b[0;31m:\u001b[0m unterminated string literal (detected at line 2)\n"
          ]
        }
      ],
      "source": [
        "#print with mismatched quotations\n",
        "print(\"hey')"
      ]
    },
    {
      "cell_type": "code",
      "execution_count": null,
      "id": "a07a4109",
      "metadata": {
        "id": "a07a4109",
        "outputId": "ca44c7d3-b32d-4840-f126-bbc7a0d0fef9",
        "colab": {
          "base_uri": "https://localhost:8080/",
          "height": 158
        }
      },
      "outputs": [
        {
          "output_type": "error",
          "ename": "NameError",
          "evalue": "name 'hey' is not defined",
          "traceback": [
            "\u001b[0;31m---------------------------------------------------------------------------\u001b[0m",
            "\u001b[0;31mNameError\u001b[0m                                 Traceback (most recent call last)",
            "\u001b[0;32m<ipython-input-122-7c7e86a2c9d4>\u001b[0m in \u001b[0;36m<cell line: 2>\u001b[0;34m()\u001b[0m\n\u001b[1;32m      1\u001b[0m \u001b[0;31m#print without quotations\u001b[0m\u001b[0;34m\u001b[0m\u001b[0;34m\u001b[0m\u001b[0m\n\u001b[0;32m----> 2\u001b[0;31m \u001b[0mprint\u001b[0m\u001b[0;34m(\u001b[0m\u001b[0mhey\u001b[0m\u001b[0;34m)\u001b[0m\u001b[0;34m\u001b[0m\u001b[0;34m\u001b[0m\u001b[0m\n\u001b[0m",
            "\u001b[0;31mNameError\u001b[0m: name 'hey' is not defined"
          ]
        }
      ],
      "source": [
        "#print without quotations\n",
        "print(hey)"
      ]
    },
    {
      "cell_type": "markdown",
      "id": "2e484e3c",
      "metadata": {
        "id": "2e484e3c"
      },
      "source": [
        "We'll now try some basic maths to see how this works in Python"
      ]
    },
    {
      "cell_type": "code",
      "execution_count": null,
      "id": "f94918ce",
      "metadata": {
        "id": "f94918ce"
      },
      "outputs": [],
      "source": [
        "3+4"
      ]
    },
    {
      "cell_type": "markdown",
      "id": "7a109669",
      "metadata": {
        "id": "7a109669"
      },
      "source": [
        "If we print 3+4 we get the same output"
      ]
    },
    {
      "cell_type": "code",
      "execution_count": null,
      "id": "03c39623",
      "metadata": {
        "id": "03c39623"
      },
      "outputs": [],
      "source": [
        "print(3+4)"
      ]
    },
    {
      "cell_type": "markdown",
      "id": "802bdf45",
      "metadata": {
        "id": "802bdf45"
      },
      "source": [
        "however, if we print '3+4', Python reads this in as text and not numbers"
      ]
    },
    {
      "cell_type": "code",
      "execution_count": null,
      "id": "61080a1d",
      "metadata": {
        "id": "61080a1d"
      },
      "outputs": [],
      "source": [
        "#print with quotations"
      ]
    },
    {
      "cell_type": "markdown",
      "id": "32f95441",
      "metadata": {
        "id": "32f95441"
      },
      "source": [
        "If we want to be able to come back to our answer without having to recalculate it every time, we can assign it to a variable"
      ]
    },
    {
      "cell_type": "code",
      "execution_count": null,
      "id": "1330a604",
      "metadata": {
        "id": "1330a604"
      },
      "outputs": [],
      "source": [
        "answer = 3+4"
      ]
    },
    {
      "cell_type": "markdown",
      "id": "d550bf2a",
      "metadata": {
        "id": "d550bf2a"
      },
      "source": [
        "We can print the variable"
      ]
    },
    {
      "cell_type": "code",
      "execution_count": null,
      "id": "394b6f9a",
      "metadata": {
        "id": "394b6f9a",
        "scrolled": true
      },
      "outputs": [],
      "source": [
        "print(answer)"
      ]
    },
    {
      "cell_type": "markdown",
      "id": "5f584705",
      "metadata": {
        "id": "5f584705"
      },
      "source": [
        "See how this is different when calling `print()` on the variable, compared to if we use quotes- try it out below"
      ]
    },
    {
      "cell_type": "code",
      "execution_count": null,
      "id": "5f4aecac",
      "metadata": {
        "id": "5f4aecac"
      },
      "outputs": [],
      "source": [
        "#print with quotations\n",
        "print(\"answers\")"
      ]
    },
    {
      "cell_type": "markdown",
      "id": "14432f55",
      "metadata": {
        "id": "14432f55"
      },
      "source": [
        "Or we can just call the variable by name"
      ]
    },
    {
      "cell_type": "code",
      "execution_count": null,
      "id": "a739ccba",
      "metadata": {
        "id": "a739ccba"
      },
      "outputs": [],
      "source": [
        "answer"
      ]
    },
    {
      "cell_type": "markdown",
      "id": "066bfdba",
      "metadata": {
        "id": "066bfdba"
      },
      "source": [
        "And as our variable is a number, we can use it in another calculation"
      ]
    },
    {
      "cell_type": "code",
      "execution_count": null,
      "id": "5c18af9c",
      "metadata": {
        "id": "5c18af9c"
      },
      "outputs": [],
      "source": [
        "answer * 2"
      ]
    },
    {
      "cell_type": "markdown",
      "id": "f28a64ee",
      "metadata": {
        "id": "f28a64ee"
      },
      "source": [
        "<br> <br> <br>\n",
        "## Importing Packages"
      ]
    },
    {
      "cell_type": "markdown",
      "id": "bf107f36",
      "metadata": {
        "id": "bf107f36"
      },
      "source": [
        "Python has a lot of basic commands built in, but to extend the functionality, we can load in packages (also known as modules). These are extra libraries of code, written by other people, which allow us to do more specific analyses. Python Programmers tend to load in all their packages in one go at the beginning of their code.\n",
        "<br><br>\n",
        "The command for installing packages is `import package_name`\n",
        "<br><br>\n",
        "We'll start by importing the [pandas package](https://pandas.pydata.org/docs/user_guide/index.html), which is designed for real-world data analysis, so we'll be using it a lot in these labs! It allows easy handling of data frames such as .csv files, a bit like Excel.\n",
        "<br>\n",
        "When we use the functions provided by a specialist package, we have to tell Python where to look for the commands, for example, `pandas.read_csv('file-name')`.\n",
        "<br><br>\n",
        "As we'll be using these such a lot, we can use a common abbrevation to save time, and then the command is shortened to `pd.read_csv('file-name')`\n"
      ]
    },
    {
      "cell_type": "code",
      "execution_count": null,
      "id": "e45152f7",
      "metadata": {
        "id": "e45152f7"
      },
      "outputs": [],
      "source": [
        "import pandas as pd #importing pandas and giving it the nickname pd"
      ]
    },
    {
      "cell_type": "markdown",
      "id": "bf007b60",
      "metadata": {
        "id": "bf007b60"
      },
      "source": [
        "<br> <br> <br>\n",
        "## Reading in Data"
      ]
    },
    {
      "cell_type": "markdown",
      "id": "a57c46b5",
      "metadata": {
        "id": "a57c46b5"
      },
      "source": [
        "We're now ready to get started with some data analytics (which is what we're all here for!). First we load in our dataset. This week, we're going to be working with a London Borough dataset `London_Boroughs.csv`, which includes various demographic and environmental profile data for each Borough in London. It's easiest if you save the file in the same folder as you've saved this Notebook. We've also provided a data dictionary in the same folder on Minerva, which provides more information on each of the variables. To be able to open the data in Colab, you'll need to upload the files, using the file-shaped icon on the left, and then the up arrow."
      ]
    },
    {
      "cell_type": "code",
      "execution_count": null,
      "id": "11f4bbb9",
      "metadata": {
        "id": "11f4bbb9"
      },
      "outputs": [],
      "source": [
        "boroughs = pd.read_csv('/content/sample_data/London_Boroughs.csv') #remember to include the file extension!"
      ]
    },
    {
      "cell_type": "code",
      "source": [
        "from google.colab import drive\n",
        "drive.mount('/content/drive')"
      ],
      "metadata": {
        "id": "-tXt-26VfXvq"
      },
      "id": "-tXt-26VfXvq",
      "execution_count": null,
      "outputs": []
    },
    {
      "cell_type": "markdown",
      "id": "b813df56",
      "metadata": {
        "id": "b813df56"
      },
      "source": [
        "To view the data frame, we can call it up by its name `boroughs`."
      ]
    },
    {
      "cell_type": "code",
      "execution_count": null,
      "id": "e3da0aea",
      "metadata": {
        "id": "e3da0aea"
      },
      "outputs": [],
      "source": [
        "boroughs"
      ]
    },
    {
      "cell_type": "markdown",
      "id": "2c25bb78",
      "metadata": {
        "id": "2c25bb78"
      },
      "source": [
        "As you can see, pandas puts the data neatly in a table, so it's easy to work with. You can also scroll across to see all the variables. For big data sets, it can be helpful to just view the top 5 rows, using the command `dataframe.head()`"
      ]
    },
    {
      "cell_type": "code",
      "execution_count": null,
      "id": "823aa413",
      "metadata": {
        "id": "823aa413",
        "scrolled": true
      },
      "outputs": [],
      "source": [
        "boroughs.head()"
      ]
    },
    {
      "cell_type": "markdown",
      "id": "eb2f8a7f",
      "metadata": {
        "id": "eb2f8a7f"
      },
      "source": [
        "__IMPORTANT NOTE:__ Notice that Python starts counting from zero! So although `.head()` presents the top 5, the indices (numbers along the left) go from 0-4. While this isn't a problem, it's an important quirk to be aware of.\n",
        "\n",
        "<br>\n",
        "Five is the default number for this command. If we want to view a different number of rows, we can specify this in the brackets. This is what those empty brackets are doing, waiting for further instructions on the parameters they should use. If the brackets are empty, they revert to the standard, and many functions don't need any additional information.\n",
        "<br>\n",
        "Try loading the first 10 rows, then only the top one. Remember, it's a number, so doesn't need quotations."
      ]
    },
    {
      "cell_type": "code",
      "execution_count": null,
      "id": "08ff2982",
      "metadata": {
        "id": "08ff2982",
        "scrolled": true
      },
      "outputs": [],
      "source": [
        "#view first 10 rows\n",
        "boroughs.head(10)"
      ]
    },
    {
      "cell_type": "code",
      "execution_count": null,
      "id": "6b3178eb",
      "metadata": {
        "id": "6b3178eb"
      },
      "outputs": [],
      "source": [
        "#view only top row\n",
        "boroughs.head(0)"
      ]
    },
    {
      "cell_type": "markdown",
      "id": "d4f82dfb",
      "metadata": {
        "id": "d4f82dfb"
      },
      "source": [
        "Or we can see the last 5, using `dataframe.tail()`. Try it out below."
      ]
    },
    {
      "cell_type": "code",
      "execution_count": null,
      "id": "c524b4b0",
      "metadata": {
        "id": "c524b4b0"
      },
      "outputs": [],
      "source": [
        "#view the tail of the data\n",
        "boroughs.tail(5)"
      ]
    },
    {
      "cell_type": "markdown",
      "id": "6ac87be3",
      "metadata": {
        "id": "6ac87be3"
      },
      "source": [
        "<br> <br> <br>\n",
        "## Working with Dataframes"
      ]
    },
    {
      "cell_type": "markdown",
      "id": "c595ebb6",
      "metadata": {
        "id": "c595ebb6"
      },
      "source": [
        "To find out a bit more about the data and variables, we can use the `dataframe.info()` function. This lists all the columns, how many instances there are, and what type (dtype) each is."
      ]
    },
    {
      "cell_type": "code",
      "execution_count": null,
      "id": "9c1668f0",
      "metadata": {
        "id": "9c1668f0"
      },
      "outputs": [],
      "source": [
        "boroughs.info()"
      ]
    },
    {
      "cell_type": "markdown",
      "id": "58d28670",
      "metadata": {
        "id": "58d28670"
      },
      "source": [
        "There are several different types of data in the London Boroughs data set: <br>\n",
        "__object:__ is a text/string, eg 'Hello World!' <br>\n",
        "__int64:__ is an integer (numeric character), eg 3 <br>\n",
        "__float64:__ is a float, a number with decimal places, eg 3.14159 <br><br>\n",
        "There are a couple more you'll encounter at various points: <br>\n",
        "__datetime:__ values giving a point in time, either using date, time or both, eg: 2024-10-03 10:23:07.2324 is the 3rd October 2024, just after 23 minutes and 7 seconds past 10. <br>\n",
        "__boolean:__ binary data, which is assigned either True or False"
      ]
    },
    {
      "cell_type": "markdown",
      "id": "e65988b3",
      "metadata": {
        "id": "e65988b3"
      },
      "source": [
        "For numeric data, we can find out more using the `dataframe.describe()` function. This brings up descriptive statistics of all numeric (integer and float) variables. Note that this doesn't bring up any information on our object-type variables."
      ]
    },
    {
      "cell_type": "code",
      "execution_count": null,
      "id": "babbebd3",
      "metadata": {
        "id": "babbebd3",
        "scrolled": true
      },
      "outputs": [],
      "source": [
        "#try descibing the data\n",
        "boroughs.describe()"
      ]
    },
    {
      "cell_type": "markdown",
      "id": "69da85b4",
      "metadata": {
        "id": "69da85b4"
      },
      "source": [
        "To look more closely at individual columns, we can call them up by name or index (position), using the format `dataframe['column']` or `dataframe.column`. In these labs, we'll stick to the former, as it allows us to have spaces or unusal characters in our column names. We can then apply any function to an individual column, just as we did with the dataframe."
      ]
    },
    {
      "cell_type": "code",
      "execution_count": null,
      "id": "72d7246d",
      "metadata": {
        "id": "72d7246d"
      },
      "outputs": [],
      "source": [
        "boroughs['Population'].head()"
      ]
    },
    {
      "cell_type": "markdown",
      "id": "60e79672",
      "metadata": {
        "id": "60e79672"
      },
      "source": [
        "Try calling some of the other functions we've used to far (`.tail() .describe()`) on some different columns. Remember to use the correct capitalisation on the column names, or Python won't recognise them!"
      ]
    },
    {
      "cell_type": "code",
      "execution_count": null,
      "id": "491eedc7",
      "metadata": {
        "id": "491eedc7"
      },
      "outputs": [],
      "source": [
        "#view the tail of the column\n",
        "boroughs['Population'].tail()"
      ]
    },
    {
      "cell_type": "code",
      "execution_count": null,
      "id": "9cd4da20",
      "metadata": {
        "id": "9cd4da20"
      },
      "outputs": [],
      "source": [
        "#desribe the column\n",
        "boroughs['Population'].describe()"
      ]
    },
    {
      "cell_type": "markdown",
      "id": "a058a5dc",
      "metadata": {
        "id": "a058a5dc"
      },
      "source": [
        "We'll look more at statistics in future labs, but we can quickly and easily find out some basic stats for our numeric columns, using the functions brought up by describe. Let's start by getting the average Borough population."
      ]
    },
    {
      "cell_type": "code",
      "execution_count": null,
      "id": "9ec62aff",
      "metadata": {
        "id": "9ec62aff"
      },
      "outputs": [],
      "source": [
        "boroughs['Population'].mean()"
      ]
    },
    {
      "cell_type": "markdown",
      "id": "GGrOrWnJZKFq",
      "metadata": {
        "id": "GGrOrWnJZKFq"
      },
      "source": [
        "Can you also find the median?"
      ]
    },
    {
      "cell_type": "code",
      "execution_count": null,
      "id": "cd0c4f2c",
      "metadata": {
        "id": "cd0c4f2c"
      },
      "outputs": [],
      "source": [
        "#find the median of the column\n",
        "boroughs['Population'].median()"
      ]
    },
    {
      "cell_type": "markdown",
      "id": "7c71dc31",
      "metadata": {
        "id": "7c71dc31"
      },
      "source": [
        "We can also look at the extreme values, such as the Borough with the highest population:"
      ]
    },
    {
      "cell_type": "code",
      "execution_count": null,
      "id": "43b29451",
      "metadata": {
        "id": "43b29451"
      },
      "outputs": [],
      "source": [
        "boroughs['Population'].max()"
      ]
    },
    {
      "cell_type": "markdown",
      "id": "007587e8",
      "metadata": {
        "id": "007587e8"
      },
      "source": [
        "Can you find the lowest Borough population?"
      ]
    },
    {
      "cell_type": "code",
      "execution_count": null,
      "id": "c114a3bd",
      "metadata": {
        "id": "c114a3bd"
      },
      "outputs": [],
      "source": [
        "#find the minimum column value\n",
        "boroughs['Population'].min()"
      ]
    },
    {
      "cell_type": "markdown",
      "id": "e0308b54",
      "metadata": {
        "id": "e0308b54"
      },
      "source": [
        "We can also sort the data by one or more columns. The default is in ascending order:"
      ]
    },
    {
      "cell_type": "code",
      "execution_count": null,
      "id": "2809e428",
      "metadata": {
        "id": "2809e428",
        "scrolled": true
      },
      "outputs": [],
      "source": [
        "boroughs.sort_values(by = 'Population')"
      ]
    },
    {
      "cell_type": "markdown",
      "id": "e002e437",
      "metadata": {
        "id": "e002e437"
      },
      "source": [
        "To sort in descending order, we need to set on of the default parameters (ascending) to False. Try it below"
      ]
    },
    {
      "cell_type": "code",
      "execution_count": null,
      "id": "49b5c07a",
      "metadata": {
        "id": "49b5c07a",
        "scrolled": true
      },
      "outputs": [],
      "source": [
        "boroughs.sort_values(by = 'Population', ascending = False )"
      ]
    },
    {
      "cell_type": "markdown",
      "id": "35308b8a",
      "metadata": {
        "id": "35308b8a"
      },
      "source": [
        "<br>We've spent a lot of time working with just one column in the data set. If we want to be able to quickly call this column, or manipulate it without affecting the original data, we can save it as a separate variable."
      ]
    },
    {
      "cell_type": "code",
      "execution_count": null,
      "id": "9eb78e27",
      "metadata": {
        "id": "9eb78e27"
      },
      "outputs": [],
      "source": [
        "Population = boroughs['Population']"
      ]
    },
    {
      "cell_type": "code",
      "execution_count": null,
      "id": "2e990309",
      "metadata": {
        "id": "2e990309",
        "scrolled": true
      },
      "outputs": [],
      "source": [
        "#view the head of the new Populatiom dataframe\n",
        "Population = boroughs['Population'].head()"
      ]
    },
    {
      "cell_type": "code",
      "execution_count": null,
      "id": "a31871b5",
      "metadata": {
        "id": "a31871b5",
        "scrolled": true
      },
      "outputs": [],
      "source": [
        "Population.sort_values()"
      ]
    },
    {
      "cell_type": "markdown",
      "id": "735d2059",
      "metadata": {
        "id": "735d2059"
      },
      "source": [
        "We'll be looking a lot more at plotting over the coming weeks, but an easy way to visualise numerical data is just by calling .hist() on a variable to generate a simple histogram. Type this after calling the variable, below:"
      ]
    },
    {
      "cell_type": "code",
      "execution_count": null,
      "id": "40e3aef7",
      "metadata": {
        "id": "40e3aef7",
        "scrolled": true,
        "colab": {
          "base_uri": "https://localhost:8080/",
          "height": 447
        },
        "outputId": "59d85a77-c88e-461c-ffd5-179bcfab09b5"
      },
      "outputs": [
        {
          "output_type": "execute_result",
          "data": {
            "text/plain": [
              "<Axes: >"
            ]
          },
          "metadata": {},
          "execution_count": 139
        },
        {
          "output_type": "display_data",
          "data": {
            "text/plain": [
              "<Figure size 640x480 with 1 Axes>"
            ],
            "image/png": "[encoded data removed]"
          },
          "metadata": {}
        }
      ],
      "source": [
        "boroughs['Population'].hist()"
      ]
    },
    {
      "cell_type": "markdown",
      "id": "903aab4e",
      "metadata": {
        "id": "903aab4e"
      },
      "source": [
        "<br><br>\n",
        "For categorical ('object') variables, it would be useful to know how many rows correspond to each category, or 'value'. For example, we can check how many Boroughs fall into inner or outer London. To do this, we use the `.value_counts()` function. Try it out:"
      ]
    },
    {
      "cell_type": "code",
      "execution_count": null,
      "id": "1cbbaec7",
      "metadata": {
        "id": "1cbbaec7"
      },
      "outputs": [],
      "source": [
        "boroughs['Inner_Outer_London'].value_counts()"
      ]
    },
    {
      "cell_type": "markdown",
      "id": "6b196860",
      "metadata": {
        "id": "6b196860"
      },
      "source": [
        "Try this out on the other categorical variables (e.g. Largest_migrant_population and Council), in the cells below"
      ]
    },
    {
      "cell_type": "code",
      "execution_count": null,
      "id": "82e300d1",
      "metadata": {
        "id": "82e300d1"
      },
      "outputs": [],
      "source": [
        "#count valyes of a new column\n",
        "boroughs['Largest_migrant_population'].value_counts()"
      ]
    },
    {
      "cell_type": "code",
      "execution_count": null,
      "id": "686add8f",
      "metadata": {
        "id": "686add8f"
      },
      "outputs": [],
      "source": [
        "#count valyes of a new column\n",
        "boroughs['Inner_Outer_London'].value_counts()"
      ]
    },
    {
      "cell_type": "markdown",
      "id": "8b694ee3",
      "metadata": {
        "id": "8b694ee3"
      },
      "source": [
        "We can also create subsets of multiple columns, using double square brackets, which indicate a list (ie`[['','']]`)."
      ]
    },
    {
      "cell_type": "code",
      "execution_count": null,
      "id": "7e240ff8",
      "metadata": {
        "id": "7e240ff8"
      },
      "outputs": [],
      "source": [
        "sub = boroughs[['Area_name', 'Population']]\n",
        "sub"
      ]
    },
    {
      "cell_type": "markdown",
      "id": "ccbecfe9",
      "metadata": {
        "id": "ccbecfe9"
      },
      "source": [
        "Try creating a subset with three and four columns below:"
      ]
    },
    {
      "cell_type": "code",
      "execution_count": null,
      "id": "18453de7",
      "metadata": {
        "id": "18453de7"
      },
      "outputs": [],
      "source": [
        "sub2 = boroughs[['Area_name', 'Largest_migrant_population', 'Crime_rate']]\n",
        "sub2"
      ]
    },
    {
      "cell_type": "code",
      "execution_count": null,
      "id": "3347c332",
      "metadata": {
        "id": "3347c332"
      },
      "outputs": [],
      "source": [
        "sub3 = boroughs[['Area_name', 'Public_transport', 'Council', 'Greenspace']]\n",
        "sub3"
      ]
    },
    {
      "cell_type": "markdown",
      "id": "mYiZS55rYHsK",
      "metadata": {
        "id": "mYiZS55rYHsK"
      },
      "source": [
        "If we want to get rid of any columns (for example any duplicate information, or data we no longer need) we can use a simple `.drop()` function to remove them. Type the name of the duplicate column below to drop it from the dataset, then run `head()` to check it's worked."
      ]
    },
    {
      "cell_type": "code",
      "execution_count": null,
      "id": "fRAxWj8zYWqn",
      "metadata": {
        "id": "fRAxWj8zYWqn"
      },
      "outputs": [],
      "source": [
        "sub4 = sub.drop(['Area_name'], axis = 1)\n",
        "#the axis tells Python it's looking for a column name.\n",
        "# 1 means column, 0 means row, and is the default (so if we don't specify which axis, Python will assume it's a row)"
      ]
    },
    {
      "cell_type": "markdown",
      "id": "a9HKGiw9YyoD",
      "metadata": {
        "id": "a9HKGiw9YyoD"
      },
      "source": [
        "Now look at the top of the subset, to check it's worked:"
      ]
    },
    {
      "cell_type": "code",
      "execution_count": null,
      "id": "W_wg2APKYxAT",
      "metadata": {
        "id": "W_wg2APKYxAT"
      },
      "outputs": [],
      "source": [
        "#view the top of sub4\n",
        "sub4.head()"
      ]
    },
    {
      "cell_type": "markdown",
      "id": "369835cf",
      "metadata": {
        "id": "369835cf"
      },
      "source": [
        "<br><br>\n",
        "We can also look at multiple groups at once- for example, which political party has the most seats in Inner and Outer London? This needs the `groupby()` function, which groups the data, and the `size()` function, which tells us the size of each group."
      ]
    },
    {
      "cell_type": "code",
      "execution_count": null,
      "id": "0265a6f9",
      "metadata": {
        "id": "0265a6f9"
      },
      "outputs": [],
      "source": [
        "boroughs.groupby(['Inner_Outer_London', 'Council']).size()"
      ]
    },
    {
      "cell_type": "markdown",
      "id": "23fc9ccb",
      "metadata": {
        "id": "23fc9ccb"
      },
      "source": [
        "Can you call up the size of different migrant populations within inner and outer London?"
      ]
    },
    {
      "cell_type": "code",
      "execution_count": null,
      "id": "87192152",
      "metadata": {
        "id": "87192152",
        "scrolled": true
      },
      "outputs": [],
      "source": [
        "#view the size\n",
        "boroughs.groupby(['Largest_migrant_population', 'Inner_Outer_London']).size()"
      ]
    },
    {
      "cell_type": "markdown",
      "id": "9d6a07c9",
      "metadata": {
        "id": "9d6a07c9"
      },
      "source": [
        "How about the different migrant populations by Council Party?"
      ]
    },
    {
      "cell_type": "code",
      "execution_count": null,
      "id": "c4bc655f",
      "metadata": {
        "id": "c4bc655f"
      },
      "outputs": [],
      "source": [
        "#view the size\n",
        "boroughs.groupby(['Largest_migrant_population', 'Council']).size()"
      ]
    },
    {
      "cell_type": "markdown",
      "id": "bLg9p3DgeAyA",
      "metadata": {
        "id": "bLg9p3DgeAyA"
      },
      "source": [
        "<br><br><br>\n",
        "## Accessing rows and columns"
      ]
    },
    {
      "cell_type": "markdown",
      "id": "23zTeaXEeNW5",
      "metadata": {
        "id": "23zTeaXEeNW5"
      },
      "source": [
        "It's pretty straightforward to select a column by name. We'll now look at how to select by index (the position of the column. Remember: Python starts counting from 0!) <br>\n",
        "We can access the column 'Inner_Outer_London', which tells us which part of London our Borough falls in, by name:"
      ]
    },
    {
      "cell_type": "code",
      "execution_count": null,
      "id": "2ca11ad8",
      "metadata": {
        "id": "2ca11ad8"
      },
      "outputs": [],
      "source": [
        "boroughs['Inner_Outer_London']"
      ]
    },
    {
      "cell_type": "markdown",
      "id": "2cadf7a5",
      "metadata": {
        "id": "2cadf7a5"
      },
      "source": [
        "But looking at the column info, we can also see that the column number/index (#) is 2. We can use this to call the column, using the `dataframe.iloc[row_number, column_number]` function. If we want to specify the whole column or row, we use the : symbol. For example, to see all rows of column 2:"
      ]
    },
    {
      "cell_type": "code",
      "execution_count": null,
      "id": "50fc7f22",
      "metadata": {
        "id": "50fc7f22"
      },
      "outputs": [],
      "source": [
        "boroughs.iloc[:,[2]]"
      ]
    },
    {
      "cell_type": "markdown",
      "id": "d55eac59",
      "metadata": {
        "id": "d55eac59"
      },
      "source": [
        "Or to just view row 25, column 2:"
      ]
    },
    {
      "cell_type": "code",
      "execution_count": null,
      "id": "39464a89",
      "metadata": {
        "id": "39464a89"
      },
      "outputs": [],
      "source": [
        "boroughs.iloc[[25], [2]]"
      ]
    },
    {
      "cell_type": "markdown",
      "id": "4a95d8fd",
      "metadata": {
        "id": "4a95d8fd"
      },
      "source": [
        "Or for all of row 7:"
      ]
    },
    {
      "cell_type": "code",
      "execution_count": null,
      "id": "c0a222f1",
      "metadata": {
        "id": "c0a222f1"
      },
      "outputs": [],
      "source": [
        "boroughs.iloc[[7],:]"
      ]
    },
    {
      "cell_type": "markdown",
      "id": "d2c8e33a",
      "metadata": {
        "id": "d2c8e33a"
      },
      "source": [
        "This system can be a little bit confusing, so have a play around on the next couple of rows to get the hang of it."
      ]
    },
    {
      "cell_type": "code",
      "execution_count": null,
      "id": "7e0ad9d1",
      "metadata": {
        "id": "7e0ad9d1"
      },
      "outputs": [],
      "source": [
        "#call all of column 25\n",
        "boroughs.iloc[:, [25]]\n"
      ]
    },
    {
      "cell_type": "code",
      "execution_count": null,
      "id": "9994a9e9",
      "metadata": {
        "id": "9994a9e9"
      },
      "outputs": [],
      "source": [
        "#call all of row 12\n",
        "boroughs.iloc[[12],:]\n"
      ]
    },
    {
      "cell_type": "code",
      "execution_count": null,
      "id": "71ad8227",
      "metadata": {
        "id": "71ad8227"
      },
      "outputs": [],
      "source": [
        "#call column 17, row 13\n",
        "boroughs.iloc[[17], [13]]\n"
      ]
    },
    {
      "cell_type": "markdown",
      "id": "63fdd9ab",
      "metadata": {
        "id": "63fdd9ab"
      },
      "source": [
        "Can you figure out how to call multiple rows, by adding a list to where you add the rows? (ie`[['','']]`). Try calling up rows 12, 13, and 14 with one command"
      ]
    },
    {
      "cell_type": "code",
      "execution_count": null,
      "id": "7c22c267",
      "metadata": {
        "id": "7c22c267"
      },
      "outputs": [],
      "source": [
        "#call multiple rows\n",
        "boroughs.iloc[[12,13,14]]"
      ]
    },
    {
      "cell_type": "markdown",
      "id": "35e19d82",
      "metadata": {
        "id": "35e19d82"
      },
      "source": [
        "We can also call rows by name, as we practiced doing in the extension activities last week."
      ]
    },
    {
      "cell_type": "markdown",
      "id": "daaea913",
      "metadata": {
        "id": "daaea913"
      },
      "source": [
        "To call the borough named 'Westminster', we use a double equals sign `==` to tell Python to look for rows equal to that value, for example:"
      ]
    },
    {
      "cell_type": "code",
      "execution_count": null,
      "id": "804fec5c",
      "metadata": {
        "id": "804fec5c"
      },
      "outputs": [],
      "source": [
        "boroughs[(boroughs.Area_name == 'Westminster')]"
      ]
    },
    {
      "cell_type": "markdown",
      "id": "26ae0577",
      "metadata": {
        "id": "26ae0577"
      },
      "source": [
        "Now try calling the borough called 'Camden':"
      ]
    },
    {
      "cell_type": "code",
      "execution_count": null,
      "id": "466a0b92",
      "metadata": {
        "id": "466a0b92",
        "scrolled": true
      },
      "outputs": [],
      "source": [
        "#call up Camden\n",
        "boroughs[(boroughs.Area_name == 'Camden')]"
      ]
    },
    {
      "cell_type": "markdown",
      "id": "5d20d913",
      "metadata": {
        "id": "5d20d913"
      },
      "source": [
        "We can also use inequalities (ie: `>=`, `<=`, `<`,`>`) to find boroughs with values above or below a certain value. For example, we can find the borough where the average age is greater than or equal to 40"
      ]
    },
    {
      "cell_type": "code",
      "execution_count": null,
      "id": "2a1330cb",
      "metadata": {
        "id": "2a1330cb"
      },
      "outputs": [],
      "source": [
        "boroughs[(boroughs.Average_Age >= 40)]"
      ]
    },
    {
      "cell_type": "markdown",
      "id": "3544b5d1",
      "metadata": {
        "id": "3544b5d1"
      },
      "source": [
        "## Setting Data Types"
      ]
    },
    {
      "cell_type": "markdown",
      "id": "4e1bc3c7",
      "metadata": {
        "id": "4e1bc3c7"
      },
      "source": [
        "Earlier we called `.describe()` on the whole dataset. Let's now try describing the median income column:"
      ]
    },
    {
      "cell_type": "code",
      "execution_count": null,
      "id": "2050e01e",
      "metadata": {
        "id": "2050e01e",
        "scrolled": true
      },
      "outputs": [],
      "source": [
        "#descibe the column\n",
        "boroughs['Median_income'].describe()"
      ]
    },
    {
      "cell_type": "markdown",
      "id": "72043c99",
      "metadata": {
        "id": "72043c99"
      },
      "source": [
        "This doesn't look quite right- we'd expect a numerical column to return the descriptive statistics (mean, median, max, etc). So what's gone wrong? Check the data type of the median income column using the `dtype` funtion."
      ]
    },
    {
      "cell_type": "code",
      "execution_count": null,
      "id": "6eb57e79",
      "metadata": {
        "id": "6eb57e79"
      },
      "outputs": [],
      "source": [
        "boroughs['Median_income'].dtype"
      ]
    },
    {
      "cell_type": "markdown",
      "id": "b66ab571",
      "metadata": {
        "id": "b66ab571"
      },
      "source": [
        "Income should be numeric, so we'd expect the function to return 'float64' or 'int64'. If you look at the numbers, compared to the other columns which have been correctly identified as numeric, can you see why? <br>"
      ]
    },
    {
      "cell_type": "code",
      "execution_count": null,
      "id": "5e0a3787",
      "metadata": {
        "id": "5e0a3787",
        "scrolled": true
      },
      "outputs": [],
      "source": [
        "#view columns\n",
        "boroughs['Median_income']"
      ]
    },
    {
      "cell_type": "markdown",
      "id": "7837adb9",
      "metadata": {
        "id": "7837adb9"
      },
      "source": [
        "We can convert it to a float using the `.astype()` function, and removing the commas (which Python is reading as text) using `.str.replace()`. Try it out below."
      ]
    },
    {
      "cell_type": "code",
      "execution_count": null,
      "id": "3e8867ea",
      "metadata": {
        "id": "3e8867ea"
      },
      "outputs": [],
      "source": [
        "boroughs['Median_income'] = boroughs['Median_income'].str.replace(',','').astype(float) #replace commas with nothing (i.e. remove commas), then convert to float"
      ]
    },
    {
      "cell_type": "code",
      "execution_count": null,
      "id": "bee4c71e",
      "metadata": {
        "id": "bee4c71e"
      },
      "outputs": [],
      "source": [
        "boroughs['Median_income'].dtype"
      ]
    },
    {
      "cell_type": "code",
      "execution_count": null,
      "id": "ba63ef8d",
      "metadata": {
        "id": "ba63ef8d"
      },
      "outputs": [],
      "source": [
        "#describe the updated column\n",
        "boroughs['Median_income'].describe()"
      ]
    },
    {
      "cell_type": "markdown",
      "id": "5ea0d805",
      "metadata": {
        "id": "5ea0d805"
      },
      "source": [
        "Woohoo- looks like it should have worked. Have a look if there are any other columns which should be numeric but have been read in as strings. Repeat the steps above, remember to use `.astype(int)` if you need an integer, or `.astype(float)` if you need decimal places"
      ]
    },
    {
      "cell_type": "code",
      "execution_count": null,
      "id": "d0719dad",
      "metadata": {
        "id": "d0719dad"
      },
      "outputs": [],
      "source": [
        "#check other columns\n",
        "boroughs['Number_businesses'].describe()"
      ]
    },
    {
      "cell_type": "code",
      "execution_count": null,
      "id": "9635a55a",
      "metadata": {
        "id": "9635a55a"
      },
      "outputs": [],
      "source": [
        "#update any other columns as needed\n",
        "boroughs['Number_businesses'] = boroughs['Number_businesses'].str.replace(',','').astype(float) #replace commas with nothing (i.e. remove commas), then convert to float"
      ]
    },
    {
      "cell_type": "code",
      "execution_count": null,
      "id": "171c0967",
      "metadata": {
        "id": "171c0967"
      },
      "outputs": [],
      "source": [
        "#show it worked\n",
        "boroughs['Number_businesses'].describe()"
      ]
    },
    {
      "cell_type": "markdown",
      "id": "kA1ZGEqge60F",
      "metadata": {
        "id": "kA1ZGEqge60F"
      },
      "source": [
        "<br><br><br>\n",
        "\n",
        "## Pivot Tables\n",
        "Another way to reconfigure a subset of the data is using pivot tables, which (as the name might suggest), rearrange or _pivot_ variables, in order to examine different groupings. The `index` defines the rows, the `columns` will be our columns in the pivot table, and the `values` will be those in the table. To begin with, we can again look at the populaiton of each inner and outer London Borough, using Borough names:"
      ]
    },
    {
      "cell_type": "code",
      "execution_count": null,
      "id": "1ecdf69c",
      "metadata": {
        "id": "1ecdf69c"
      },
      "outputs": [],
      "source": [
        "boros_pivot = boroughs.pivot(index = 'Area_name', columns ='Inner_Outer_London', values = 'Population')"
      ]
    },
    {
      "cell_type": "code",
      "execution_count": null,
      "id": "52724a22",
      "metadata": {
        "id": "52724a22"
      },
      "outputs": [],
      "source": [
        "boros_pivot"
      ]
    },
    {
      "cell_type": "markdown",
      "id": "88a97cd6",
      "metadata": {
        "id": "88a97cd6"
      },
      "source": [
        "We could also examine whether the employment rate varies according to the leading Political party:"
      ]
    },
    {
      "cell_type": "code",
      "execution_count": null,
      "id": "7c9e1300",
      "metadata": {
        "id": "7c9e1300"
      },
      "outputs": [],
      "source": [
        "boros_pivot2 = boroughs.pivot(index = 'Area_name', columns ='Council', values = 'Employment_rate')"
      ]
    },
    {
      "cell_type": "code",
      "execution_count": null,
      "id": "9c34d380",
      "metadata": {
        "id": "9c34d380"
      },
      "outputs": [],
      "source": [
        "#view the new pivot table\n",
        "boros_pivot2"
      ]
    },
    {
      "cell_type": "markdown",
      "id": "abc9da71",
      "metadata": {
        "id": "abc9da71"
      },
      "source": [
        "<br><br>\n",
        "Now it's your turn to make some more pivot tables, following the questions below. Try making some of your own, according to variables you're interested in. Just make sure your index contains unique values, or it won't work!"
      ]
    },
    {
      "cell_type": "code",
      "execution_count": null,
      "id": "e0d442ec",
      "metadata": {
        "id": "e0d442ec",
        "colab": {
          "base_uri": "https://localhost:8080/",
          "height": 1000
        },
        "outputId": "78499b07-262e-4cf4-f686-6e48706ca386"
      },
      "outputs": [
        {
          "output_type": "execute_result",
          "data": {
            "text/plain": [
              "Inner_Outer_London      Inner London  Outer London\n",
              "Area_name                                         \n",
              "Barking and Dagenham             NaN          33.6\n",
              "Barnet                           NaN          41.3\n",
              "Bexley                           NaN          31.7\n",
              "Brent                            NaN          21.9\n",
              "Bromley                          NaN          57.8\n",
              "Camden                          24.8           NaN\n",
              "City of London                   4.8           NaN\n",
              "Croydon                          NaN          37.1\n",
              "Ealing                           NaN          30.9\n",
              "Enfield                          NaN          45.6\n",
              "Greenwich                        NaN          34.4\n",
              "Hackney                         23.2           NaN\n",
              "Hammersmith and Fulham          19.1           NaN\n",
              "Haringey                        25.5           NaN\n",
              "Harrow                           NaN          34.6\n",
              "Havering                         NaN          59.3\n",
              "Hillingdon                       NaN          49.2\n",
              "Hounslow                         NaN          39.6\n",
              "Islington                       12.4           NaN\n",
              "Kensington and Chelsea          15.1           NaN\n",
              "Kingston upon Thames             NaN          36.4\n",
              "Lambeth                         17.3           NaN\n",
              "Lewisham                        22.5           NaN\n",
              "Merton                           NaN          34.6\n",
              "Newham                          23.9           NaN\n",
              "Redbridge                        NaN          40.6\n",
              "Richmond upon Thames             NaN          50.8\n",
              "Southwark                       24.9           NaN\n",
              "Sutton                           NaN          32.0\n",
              "Tower Hamlets                   15.2           NaN\n",
              "Waltham Forest                   NaN          31.4\n",
              "Wandsworth                      26.9           NaN\n",
              "Westminster                     38.2           NaN"
            ],
            "text/html": [
              "\n",
              "  <div id=\"df-90b45d32-c508-4974-aef4-8cab609b0b3f\" class=\"colab-df-container\">\n",
              "    <div>\n",
              "<style scoped>\n",
              "    .dataframe tbody tr th:only-of-type {\n",
              "        vertical-align: middle;\n",
              "    }\n",
              "\n",
              "    .dataframe tbody tr th {\n",
              "        vertical-align: top;\n",
              "    }\n",
              "\n",
              "    .dataframe thead th {\n",
              "        text-align: right;\n",
              "    }\n",
              "</style>\n",
              "<table border=\"1\" class=\"dataframe\">\n",
              "  <thead>\n",
              "    <tr style=\"text-align: right;\">\n",
              "      <th>Inner_Outer_London</th>\n",
              "      <th>Inner London</th>\n",
              "      <th>Outer London</th>\n",
              "    </tr>\n",
              "    <tr>\n",
              "      <th>Area_name</th>\n",
              "      <th></th>\n",
              "      <th></th>\n",
              "    </tr>\n",
              "  </thead>\n",
              "  <tbody>\n",
              "    <tr>\n",
              "      <th>Barking and Dagenham</th>\n",
              "      <td>NaN</td>\n",
              "      <td>33.6</td>\n",
              "    </tr>\n",
              "    <tr>\n",
              "      <th>Barnet</th>\n",
              "      <td>NaN</td>\n",
              "      <td>41.3</td>\n",
              "    </tr>\n",
              "    <tr>\n",
              "      <th>Bexley</th>\n",
              "      <td>NaN</td>\n",
              "      <td>31.7</td>\n",
              "    </tr>\n",
              "    <tr>\n",
              "      <th>Brent</th>\n",
              "      <td>NaN</td>\n",
              "      <td>21.9</td>\n",
              "    </tr>\n",
              "    <tr>\n",
              "      <th>Bromley</th>\n",
              "      <td>NaN</td>\n",
              "      <td>57.8</td>\n",
              "    </tr>\n",
              "    <tr>\n",
              "      <th>Camden</th>\n",
              "      <td>24.8</td>\n",
              "      <td>NaN</td>\n",
              "    </tr>\n",
              "    <tr>\n",
              "      <th>City of London</th>\n",
              "      <td>4.8</td>\n",
              "      <td>NaN</td>\n",
              "    </tr>\n",
              "    <tr>\n",
              "      <th>Croydon</th>\n",
              "      <td>NaN</td>\n",
              "      <td>37.1</td>\n",
              "    </tr>\n",
              "    <tr>\n",
              "      <th>Ealing</th>\n",
              "      <td>NaN</td>\n",
              "      <td>30.9</td>\n",
              "    </tr>\n",
              "    <tr>\n",
              "      <th>Enfield</th>\n",
              "      <td>NaN</td>\n",
              "      <td>45.6</td>\n",
              "    </tr>\n",
              "    <tr>\n",
              "      <th>Greenwich</th>\n",
              "      <td>NaN</td>\n",
              "      <td>34.4</td>\n",
              "    </tr>\n",
              "    <tr>\n",
              "      <th>Hackney</th>\n",
              "      <td>23.2</td>\n",
              "      <td>NaN</td>\n",
              "    </tr>\n",
              "    <tr>\n",
              "      <th>Hammersmith and Fulham</th>\n",
              "      <td>19.1</td>\n",
              "      <td>NaN</td>\n",
              "    </tr>\n",
              "    <tr>\n",
              "      <th>Haringey</th>\n",
              "      <td>25.5</td>\n",
              "      <td>NaN</td>\n",
              "    </tr>\n",
              "    <tr>\n",
              "      <th>Harrow</th>\n",
              "      <td>NaN</td>\n",
              "      <td>34.6</td>\n",
              "    </tr>\n",
              "    <tr>\n",
              "      <th>Havering</th>\n",
              "      <td>NaN</td>\n",
              "      <td>59.3</td>\n",
              "    </tr>\n",
              "    <tr>\n",
              "      <th>Hillingdon</th>\n",
              "      <td>NaN</td>\n",
              "      <td>49.2</td>\n",
              "    </tr>\n",
              "    <tr>\n",
              "      <th>Hounslow</th>\n",
              "      <td>NaN</td>\n",
              "      <td>39.6</td>\n",
              "    </tr>\n",
              "    <tr>\n",
              "      <th>Islington</th>\n",
              "      <td>12.4</td>\n",
              "      <td>NaN</td>\n",
              "    </tr>\n",
              "    <tr>\n",
              "      <th>Kensington and Chelsea</th>\n",
              "      <td>15.1</td>\n",
              "      <td>NaN</td>\n",
              "    </tr>\n",
              "    <tr>\n",
              "      <th>Kingston upon Thames</th>\n",
              "      <td>NaN</td>\n",
              "      <td>36.4</td>\n",
              "    </tr>\n",
              "    <tr>\n",
              "      <th>Lambeth</th>\n",
              "      <td>17.3</td>\n",
              "      <td>NaN</td>\n",
              "    </tr>\n",
              "    <tr>\n",
              "      <th>Lewisham</th>\n",
              "      <td>22.5</td>\n",
              "      <td>NaN</td>\n",
              "    </tr>\n",
              "    <tr>\n",
              "      <th>Merton</th>\n",
              "      <td>NaN</td>\n",
              "      <td>34.6</td>\n",
              "    </tr>\n",
              "    <tr>\n",
              "      <th>Newham</th>\n",
              "      <td>23.9</td>\n",
              "      <td>NaN</td>\n",
              "    </tr>\n",
              "    <tr>\n",
              "      <th>Redbridge</th>\n",
              "      <td>NaN</td>\n",
              "      <td>40.6</td>\n",
              "    </tr>\n",
              "    <tr>\n",
              "      <th>Richmond upon Thames</th>\n",
              "      <td>NaN</td>\n",
              "      <td>50.8</td>\n",
              "    </tr>\n",
              "    <tr>\n",
              "      <th>Southwark</th>\n",
              "      <td>24.9</td>\n",
              "      <td>NaN</td>\n",
              "    </tr>\n",
              "    <tr>\n",
              "      <th>Sutton</th>\n",
              "      <td>NaN</td>\n",
              "      <td>32.0</td>\n",
              "    </tr>\n",
              "    <tr>\n",
              "      <th>Tower Hamlets</th>\n",
              "      <td>15.2</td>\n",
              "      <td>NaN</td>\n",
              "    </tr>\n",
              "    <tr>\n",
              "      <th>Waltham Forest</th>\n",
              "      <td>NaN</td>\n",
              "      <td>31.4</td>\n",
              "    </tr>\n",
              "    <tr>\n",
              "      <th>Wandsworth</th>\n",
              "      <td>26.9</td>\n",
              "      <td>NaN</td>\n",
              "    </tr>\n",
              "    <tr>\n",
              "      <th>Westminster</th>\n",
              "      <td>38.2</td>\n",
              "      <td>NaN</td>\n",
              "    </tr>\n",
              "  </tbody>\n",
              "</table>\n",
              "</div>\n",
              "    <div class=\"colab-df-buttons\">\n",
              "\n",
              "  <div class=\"colab-df-container\">\n",
              "    <button class=\"colab-df-convert\" onclick=\"convertToInteractive('df-90b45d32-c508-4974-aef4-8cab609b0b3f')\"\n",
              "            title=\"Convert this dataframe to an interactive table.\"\n",
              "            style=\"display:none;\">\n",
              "\n",
              "  <svg xmlns=\"http://www.w3.org/2000/svg\" height=\"24px\" viewBox=\"0 -960 960 960\">\n",
              "    <path d=\"M120-120v-720h720v720H120Zm60-500h600v-160H180v160Zm220 220h160v-160H400v160Zm0 220h160v-160H400v160ZM180-400h160v-160H180v160Zm440 0h160v-160H620v160ZM180-180h160v-160H180v160Zm440 0h160v-160H620v160Z\"/>\n",
              "  </svg>\n",
              "    </button>\n",
              "\n",
              "  <style>\n",
              "    .colab-df-container {\n",
              "      display:flex;\n",
              "      gap: 12px;\n",
              "    }\n",
              "\n",
              "    .colab-df-convert {\n",
              "      background-color: #E8F0FE;\n",
              "      border: none;\n",
              "      border-radius: 50%;\n",
              "      cursor: pointer;\n",
              "      display: none;\n",
              "      fill: #1967D2;\n",
              "      height: 32px;\n",
              "      padding: 0 0 0 0;\n",
              "      width: 32px;\n",
              "    }\n",
              "\n",
              "    .colab-df-convert:hover {\n",
              "      background-color: #E2EBFA;\n",
              "      box-shadow: 0px 1px 2px rgba(60, 64, 67, 0.3), 0px 1px 3px 1px rgba(60, 64, 67, 0.15);\n",
              "      fill: #174EA6;\n",
              "    }\n",
              "\n",
              "    .colab-df-buttons div {\n",
              "      margin-bottom: 4px;\n",
              "    }\n",
              "\n",
              "    [theme=dark] .colab-df-convert {\n",
              "      background-color: #3B4455;\n",
              "      fill: #D2E3FC;\n",
              "    }\n",
              "\n",
              "    [theme=dark] .colab-df-convert:hover {\n",
              "      background-color: #434B5C;\n",
              "      box-shadow: 0px 1px 3px 1px rgba(0, 0, 0, 0.15);\n",
              "      filter: drop-shadow(0px 1px 2px rgba(0, 0, 0, 0.3));\n",
              "      fill: #FFFFFF;\n",
              "    }\n",
              "  </style>\n",
              "\n",
              "    <script>\n",
              "      const buttonEl =\n",
              "        document.querySelector('#df-90b45d32-c508-4974-aef4-8cab609b0b3f button.colab-df-convert');\n",
              "      buttonEl.style.display =\n",
              "        google.colab.kernel.accessAllowed ? 'block' : 'none';\n",
              "\n",
              "      async function convertToInteractive(key) {\n",
              "        const element = document.querySelector('#df-90b45d32-c508-4974-aef4-8cab609b0b3f');\n",
              "        const dataTable =\n",
              "          await google.colab.kernel.invokeFunction('convertToInteractive',\n",
              "                                                    [key], {});\n",
              "        if (!dataTable) return;\n",
              "\n",
              "        const docLinkHtml = 'Like what you see? Visit the ' +\n",
              "          '<a target=\"_blank\" href=https://colab.research.google.com/notebooks/data_table.ipynb>data table notebook</a>'\n",
              "          + ' to learn more about interactive tables.';\n",
              "        element.innerHTML = '';\n",
              "        dataTable['output_type'] = 'display_data';\n",
              "        await google.colab.output.renderOutput(dataTable, element);\n",
              "        const docLink = document.createElement('div');\n",
              "        docLink.innerHTML = docLinkHtml;\n",
              "        element.appendChild(docLink);\n",
              "      }\n",
              "    </script>\n",
              "  </div>\n",
              "\n",
              "\n",
              "<div id=\"df-463b820e-db6e-4d38-a137-d4c37b351dff\">\n",
              "  <button class=\"colab-df-quickchart\" onclick=\"quickchart('df-463b820e-db6e-4d38-a137-d4c37b351dff')\"\n",
              "            title=\"Suggest charts\"\n",
              "            style=\"display:none;\">\n",
              "\n",
              "<svg xmlns=\"http://www.w3.org/2000/svg\" height=\"24px\"viewBox=\"0 0 24 24\"\n",
              "     width=\"24px\">\n",
              "    <g>\n",
              "        <path d=\"M19 3H5c-1.1 0-2 .9-2 2v14c0 1.1.9 2 2 2h14c1.1 0 2-.9 2-2V5c0-1.1-.9-2-2-2zM9 17H7v-7h2v7zm4 0h-2V7h2v10zm4 0h-2v-4h2v4z\"/>\n",
              "    </g>\n",
              "</svg>\n",
              "  </button>\n",
              "\n",
              "<style>\n",
              "  .colab-df-quickchart {\n",
              "      --bg-color: #E8F0FE;\n",
              "      --fill-color: #1967D2;\n",
              "      --hover-bg-color: #E2EBFA;\n",
              "      --hover-fill-color: #174EA6;\n",
              "      --disabled-fill-color: #AAA;\n",
              "      --disabled-bg-color: #DDD;\n",
              "  }\n",
              "\n",
              "  [theme=dark] .colab-df-quickchart {\n",
              "      --bg-color: #3B4455;\n",
              "      --fill-color: #D2E3FC;\n",
              "      --hover-bg-color: #434B5C;\n",
              "      --hover-fill-color: #FFFFFF;\n",
              "      --disabled-bg-color: #3B4455;\n",
              "      --disabled-fill-color: #666;\n",
              "  }\n",
              "\n",
              "  .colab-df-quickchart {\n",
              "    background-color: var(--bg-color);\n",
              "    border: none;\n",
              "    border-radius: 50%;\n",
              "    cursor: pointer;\n",
              "    display: none;\n",
              "    fill: var(--fill-color);\n",
              "    height: 32px;\n",
              "    padding: 0;\n",
              "    width: 32px;\n",
              "  }\n",
              "\n",
              "  .colab-df-quickchart:hover {\n",
              "    background-color: var(--hover-bg-color);\n",
              "    box-shadow: 0 1px 2px rgba(60, 64, 67, 0.3), 0 1px 3px 1px rgba(60, 64, 67, 0.15);\n",
              "    fill: var(--button-hover-fill-color);\n",
              "  }\n",
              "\n",
              "  .colab-df-quickchart-complete:disabled,\n",
              "  .colab-df-quickchart-complete:disabled:hover {\n",
              "    background-color: var(--disabled-bg-color);\n",
              "    fill: var(--disabled-fill-color);\n",
              "    box-shadow: none;\n",
              "  }\n",
              "\n",
              "  .colab-df-spinner {\n",
              "    border: 2px solid var(--fill-color);\n",
              "    border-color: transparent;\n",
              "    border-bottom-color: var(--fill-color);\n",
              "    animation:\n",
              "      spin 1s steps(1) infinite;\n",
              "  }\n",
              "\n",
              "  @keyframes spin {\n",
              "    0% {\n",
              "      border-color: transparent;\n",
              "      border-bottom-color: var(--fill-color);\n",
              "      border-left-color: var(--fill-color);\n",
              "    }\n",
              "    20% {\n",
              "      border-color: transparent;\n",
              "      border-left-color: var(--fill-color);\n",
              "      border-top-color: var(--fill-color);\n",
              "    }\n",
              "    30% {\n",
              "      border-color: transparent;\n",
              "      border-left-color: var(--fill-color);\n",
              "      border-top-color: var(--fill-color);\n",
              "      border-right-color: var(--fill-color);\n",
              "    }\n",
              "    40% {\n",
              "      border-color: transparent;\n",
              "      border-right-color: var(--fill-color);\n",
              "      border-top-color: var(--fill-color);\n",
              "    }\n",
              "    60% {\n",
              "      border-color: transparent;\n",
              "      border-right-color: var(--fill-color);\n",
              "    }\n",
              "    80% {\n",
              "      border-color: transparent;\n",
              "      border-right-color: var(--fill-color);\n",
              "      border-bottom-color: var(--fill-color);\n",
              "    }\n",
              "    90% {\n",
              "      border-color: transparent;\n",
              "      border-bottom-color: var(--fill-color);\n",
              "    }\n",
              "  }\n",
              "</style>\n",
              "\n",
              "  <script>\n",
              "    async function quickchart(key) {\n",
              "      const quickchartButtonEl =\n",
              "        document.querySelector('#' + key + ' button');\n",
              "      quickchartButtonEl.disabled = true;  // To prevent multiple clicks.\n",
              "      quickchartButtonEl.classList.add('colab-df-spinner');\n",
              "      try {\n",
              "        const charts = await google.colab.kernel.invokeFunction(\n",
              "            'suggestCharts', [key], {});\n",
              "      } catch (error) {\n",
              "        console.error('Error during call to suggestCharts:', error);\n",
              "      }\n",
              "      quickchartButtonEl.classList.remove('colab-df-spinner');\n",
              "      quickchartButtonEl.classList.add('colab-df-quickchart-complete');\n",
              "    }\n",
              "    (() => {\n",
              "      let quickchartButtonEl =\n",
              "        document.querySelector('#df-463b820e-db6e-4d38-a137-d4c37b351dff button');\n",
              "      quickchartButtonEl.style.display =\n",
              "        google.colab.kernel.accessAllowed ? 'block' : 'none';\n",
              "    })();\n",
              "  </script>\n",
              "</div>\n",
              "\n",
              "  <div id=\"id_af0c13dd-9bee-44bc-b488-adce8e64ca47\">\n",
              "    <style>\n",
              "      .colab-df-generate {\n",
              "        background-color: #E8F0FE;\n",
              "        border: none;\n",
              "        border-radius: 50%;\n",
              "        cursor: pointer;\n",
              "        display: none;\n",
              "        fill: #1967D2;\n",
              "        height: 32px;\n",
              "        padding: 0 0 0 0;\n",
              "        width: 32px;\n",
              "      }\n",
              "\n",
              "      .colab-df-generate:hover {\n",
              "        background-color: #E2EBFA;\n",
              "        box-shadow: 0px 1px 2px rgba(60, 64, 67, 0.3), 0px 1px 3px 1px rgba(60, 64, 67, 0.15);\n",
              "        fill: #174EA6;\n",
              "      }\n",
              "\n",
              "      [theme=dark] .colab-df-generate {\n",
              "        background-color: #3B4455;\n",
              "        fill: #D2E3FC;\n",
              "      }\n",
              "\n",
              "      [theme=dark] .colab-df-generate:hover {\n",
              "        background-color: #434B5C;\n",
              "        box-shadow: 0px 1px 3px 1px rgba(0, 0, 0, 0.15);\n",
              "        filter: drop-shadow(0px 1px 2px rgba(0, 0, 0, 0.3));\n",
              "        fill: #FFFFFF;\n",
              "      }\n",
              "    </style>\n",
              "    <button class=\"colab-df-generate\" onclick=\"generateWithVariable('boros_pivot3')\"\n",
              "            title=\"Generate code using this dataframe.\"\n",
              "            style=\"display:none;\">\n",
              "\n",
              "  <svg xmlns=\"http://www.w3.org/2000/svg\" height=\"24px\"viewBox=\"0 0 24 24\"\n",
              "       width=\"24px\">\n",
              "    <path d=\"M7,19H8.4L18.45,9,17,7.55,7,17.6ZM5,21V16.75L18.45,3.32a2,2,0,0,1,2.83,0l1.4,1.43a1.91,1.91,0,0,1,.58,1.4,1.91,1.91,0,0,1-.58,1.4L9.25,21ZM18.45,9,17,7.55Zm-12,3A5.31,5.31,0,0,0,4.9,8.1,5.31,5.31,0,0,0,1,6.5,5.31,5.31,0,0,0,4.9,4.9,5.31,5.31,0,0,0,6.5,1,5.31,5.31,0,0,0,8.1,4.9,5.31,5.31,0,0,0,12,6.5,5.46,5.46,0,0,0,6.5,12Z\"/>\n",
              "  </svg>\n",
              "    </button>\n",
              "    <script>\n",
              "      (() => {\n",
              "      const buttonEl =\n",
              "        document.querySelector('#id_af0c13dd-9bee-44bc-b488-adce8e64ca47 button.colab-df-generate');\n",
              "      buttonEl.style.display =\n",
              "        google.colab.kernel.accessAllowed ? 'block' : 'none';\n",
              "\n",
              "      buttonEl.onclick = () => {\n",
              "        google.colab.notebook.generateWithVariable('boros_pivot3');\n",
              "      }\n",
              "      })();\n",
              "    </script>\n",
              "  </div>\n",
              "\n",
              "    </div>\n",
              "  </div>\n"
            ],
            "application/vnd.google.colaboratory.intrinsic+json": {
              "type": "dataframe",
              "variable_name": "boros_pivot3",
              "summary": "{\n  \"name\": \"boros_pivot3\",\n  \"rows\": 33,\n  \"fields\": [\n    {\n      \"column\": \"Area_name\",\n      \"properties\": {\n        \"dtype\": \"string\",\n        \"num_unique_values\": 33,\n        \"samples\": [\n          \"Wandsworth\",\n          \"Havering\",\n          \"Richmond upon Thames\"\n        ],\n        \"semantic_type\": \"\",\n        \"description\": \"\"\n      }\n    },\n    {\n      \"column\": \"Inner London\",\n      \"properties\": {\n        \"dtype\": \"number\",\n        \"std\": 7.933362575745656,\n        \"min\": 4.8,\n        \"max\": 38.2,\n        \"num_unique_values\": 14,\n        \"samples\": [\n          23.9,\n          15.2,\n          24.8\n        ],\n        \"semantic_type\": \"\",\n        \"description\": \"\"\n      }\n    },\n    {\n      \"column\": \"Outer London\",\n      \"properties\": {\n        \"dtype\": \"number\",\n        \"std\": 9.65484758405564,\n        \"min\": 21.9,\n        \"max\": 59.3,\n        \"num_unique_values\": 18,\n        \"samples\": [\n          33.6,\n          41.3,\n          34.4\n        ],\n        \"semantic_type\": \"\",\n        \"description\": \"\"\n      }\n    }\n  ]\n}"
            }
          },
          "metadata": {},
          "execution_count": 124
        }
      ],
      "source": [
        "#how does the percentage of greenspace vary in inner and outer London?\n",
        "boros_pivot3 = boroughs.pivot(index = 'Area_name', columns ='Inner_Outer_London', values = 'Greenspace')\n",
        "boros_pivot3"
      ]
    },
    {
      "cell_type": "code",
      "execution_count": null,
      "id": "30176ad0",
      "metadata": {
        "id": "30176ad0",
        "colab": {
          "base_uri": "https://localhost:8080/",
          "height": 1000
        },
        "outputId": "6b80b6c9-ce94-4486-ae70-6e4682c4fb9f"
      },
      "outputs": [
        {
          "output_type": "execute_result",
          "data": {
            "text/plain": [
              "Council                 NaN  Cons  Lab  Lib Dem  No Overall Control  \\\n",
              "Area_name                                                             \n",
              "Barking and Dagenham    NaN   NaN  7.1      NaN                 NaN   \n",
              "Barnet                  NaN   7.5  NaN      NaN                 NaN   \n",
              "Bexley                  NaN   7.4  NaN      NaN                 NaN   \n",
              "Brent                   NaN   NaN  7.3      NaN                 NaN   \n",
              "Bromley                 NaN   7.5  NaN      NaN                 NaN   \n",
              "Camden                  NaN   NaN  7.1      NaN                 NaN   \n",
              "City of London          6.6   NaN  NaN      NaN                 NaN   \n",
              "Croydon                 NaN   NaN  7.1      NaN                 NaN   \n",
              "Ealing                  NaN   NaN  7.3      NaN                 NaN   \n",
              "Enfield                 NaN   NaN  7.3      NaN                 NaN   \n",
              "Greenwich               NaN   NaN  7.2      NaN                 NaN   \n",
              "Hackney                 NaN   NaN  7.0      NaN                 NaN   \n",
              "Hammersmith and Fulham  NaN   NaN  7.4      NaN                 NaN   \n",
              "Haringey                NaN   NaN  7.2      NaN                 NaN   \n",
              "Harrow                  NaN   NaN  7.3      NaN                 NaN   \n",
              "Havering                NaN   NaN  NaN      NaN                 7.4   \n",
              "Hillingdon              NaN   7.4  NaN      NaN                 NaN   \n",
              "Hounslow                NaN   NaN  7.3      NaN                 NaN   \n",
              "Islington               NaN   NaN  7.2      NaN                 NaN   \n",
              "Kensington and Chelsea  NaN   7.6  NaN      NaN                 NaN   \n",
              "Kingston upon Thames    NaN   7.3  NaN      NaN                 NaN   \n",
              "Lambeth                 NaN   NaN  7.1      NaN                 NaN   \n",
              "Lewisham                NaN   NaN  7.2      NaN                 NaN   \n",
              "Merton                  NaN   NaN  7.3      NaN                 NaN   \n",
              "Newham                  NaN   NaN  7.1      NaN                 NaN   \n",
              "Redbridge               NaN   NaN  7.3      NaN                 NaN   \n",
              "Richmond upon Thames    NaN   7.5  NaN      NaN                 NaN   \n",
              "Southwark               NaN   NaN  7.5      NaN                 NaN   \n",
              "Sutton                  NaN   NaN  NaN      7.5                 NaN   \n",
              "Tower Hamlets           NaN   NaN  NaN      NaN                 NaN   \n",
              "Waltham Forest          NaN   NaN  7.2      NaN                 NaN   \n",
              "Wandsworth              NaN   7.4  NaN      NaN                 NaN   \n",
              "Westminster             NaN   7.3  NaN      NaN                 NaN   \n",
              "\n",
              "Council                 Tower Hamlets First  \n",
              "Area_name                                    \n",
              "Barking and Dagenham                    NaN  \n",
              "Barnet                                  NaN  \n",
              "Bexley                                  NaN  \n",
              "Brent                                   NaN  \n",
              "Bromley                                 NaN  \n",
              "Camden                                  NaN  \n",
              "City of London                          NaN  \n",
              "Croydon                                 NaN  \n",
              "Ealing                                  NaN  \n",
              "Enfield                                 NaN  \n",
              "Greenwich                               NaN  \n",
              "Hackney                                 NaN  \n",
              "Hammersmith and Fulham                  NaN  \n",
              "Haringey                                NaN  \n",
              "Harrow                                  NaN  \n",
              "Havering                                NaN  \n",
              "Hillingdon                              NaN  \n",
              "Hounslow                                NaN  \n",
              "Islington                               NaN  \n",
              "Kensington and Chelsea                  NaN  \n",
              "Kingston upon Thames                    NaN  \n",
              "Lambeth                                 NaN  \n",
              "Lewisham                                NaN  \n",
              "Merton                                  NaN  \n",
              "Newham                                  NaN  \n",
              "Redbridge                               NaN  \n",
              "Richmond upon Thames                    NaN  \n",
              "Southwark                               NaN  \n",
              "Sutton                                  NaN  \n",
              "Tower Hamlets                           7.2  \n",
              "Waltham Forest                          NaN  \n",
              "Wandsworth                              NaN  \n",
              "Westminster                             NaN  "
            ],
            "text/html": [
              "\n",
              "  <div id=\"df-dfa30921-6eab-4a14-9cdf-6ab068503da7\" class=\"colab-df-container\">\n",
              "    <div>\n",
              "<style scoped>\n",
              "    .dataframe tbody tr th:only-of-type {\n",
              "        vertical-align: middle;\n",
              "    }\n",
              "\n",
              "    .dataframe tbody tr th {\n",
              "        vertical-align: top;\n",
              "    }\n",
              "\n",
              "    .dataframe thead th {\n",
              "        text-align: right;\n",
              "    }\n",
              "</style>\n",
              "<table border=\"1\" class=\"dataframe\">\n",
              "  <thead>\n",
              "    <tr style=\"text-align: right;\">\n",
              "      <th>Council</th>\n",
              "      <th>NaN</th>\n",
              "      <th>Cons</th>\n",
              "      <th>Lab</th>\n",
              "      <th>Lib Dem</th>\n",
              "      <th>No Overall Control</th>\n",
              "      <th>Tower Hamlets First</th>\n",
              "    </tr>\n",
              "    <tr>\n",
              "      <th>Area_name</th>\n",
              "      <th></th>\n",
              "      <th></th>\n",
              "      <th></th>\n",
              "      <th></th>\n",
              "      <th></th>\n",
              "      <th></th>\n",
              "    </tr>\n",
              "  </thead>\n",
              "  <tbody>\n",
              "    <tr>\n",
              "      <th>Barking and Dagenham</th>\n",
              "      <td>NaN</td>\n",
              "      <td>NaN</td>\n",
              "      <td>7.1</td>\n",
              "      <td>NaN</td>\n",
              "      <td>NaN</td>\n",
              "      <td>NaN</td>\n",
              "    </tr>\n",
              "    <tr>\n",
              "      <th>Barnet</th>\n",
              "      <td>NaN</td>\n",
              "      <td>7.5</td>\n",
              "      <td>NaN</td>\n",
              "      <td>NaN</td>\n",
              "      <td>NaN</td>\n",
              "      <td>NaN</td>\n",
              "    </tr>\n",
              "    <tr>\n",
              "      <th>Bexley</th>\n",
              "      <td>NaN</td>\n",
              "      <td>7.4</td>\n",
              "      <td>NaN</td>\n",
              "      <td>NaN</td>\n",
              "      <td>NaN</td>\n",
              "      <td>NaN</td>\n",
              "    </tr>\n",
              "    <tr>\n",
              "      <th>Brent</th>\n",
              "      <td>NaN</td>\n",
              "      <td>NaN</td>\n",
              "      <td>7.3</td>\n",
              "      <td>NaN</td>\n",
              "      <td>NaN</td>\n",
              "      <td>NaN</td>\n",
              "    </tr>\n",
              "    <tr>\n",
              "      <th>Bromley</th>\n",
              "      <td>NaN</td>\n",
              "      <td>7.5</td>\n",
              "      <td>NaN</td>\n",
              "      <td>NaN</td>\n",
              "      <td>NaN</td>\n",
              "      <td>NaN</td>\n",
              "    </tr>\n",
              "    <tr>\n",
              "      <th>Camden</th>\n",
              "      <td>NaN</td>\n",
              "      <td>NaN</td>\n",
              "      <td>7.1</td>\n",
              "      <td>NaN</td>\n",
              "      <td>NaN</td>\n",
              "      <td>NaN</td>\n",
              "    </tr>\n",
              "    <tr>\n",
              "      <th>City of London</th>\n",
              "      <td>6.6</td>\n",
              "      <td>NaN</td>\n",
              "      <td>NaN</td>\n",
              "      <td>NaN</td>\n",
              "      <td>NaN</td>\n",
              "      <td>NaN</td>\n",
              "    </tr>\n",
              "    <tr>\n",
              "      <th>Croydon</th>\n",
              "      <td>NaN</td>\n",
              "      <td>NaN</td>\n",
              "      <td>7.1</td>\n",
              "      <td>NaN</td>\n",
              "      <td>NaN</td>\n",
              "      <td>NaN</td>\n",
              "    </tr>\n",
              "    <tr>\n",
              "      <th>Ealing</th>\n",
              "      <td>NaN</td>\n",
              "      <td>NaN</td>\n",
              "      <td>7.3</td>\n",
              "      <td>NaN</td>\n",
              "      <td>NaN</td>\n",
              "      <td>NaN</td>\n",
              "    </tr>\n",
              "    <tr>\n",
              "      <th>Enfield</th>\n",
              "      <td>NaN</td>\n",
              "      <td>NaN</td>\n",
              "      <td>7.3</td>\n",
              "      <td>NaN</td>\n",
              "      <td>NaN</td>\n",
              "      <td>NaN</td>\n",
              "    </tr>\n",
              "    <tr>\n",
              "      <th>Greenwich</th>\n",
              "      <td>NaN</td>\n",
              "      <td>NaN</td>\n",
              "      <td>7.2</td>\n",
              "      <td>NaN</td>\n",
              "      <td>NaN</td>\n",
              "      <td>NaN</td>\n",
              "    </tr>\n",
              "    <tr>\n",
              "      <th>Hackney</th>\n",
              "      <td>NaN</td>\n",
              "      <td>NaN</td>\n",
              "      <td>7.0</td>\n",
              "      <td>NaN</td>\n",
              "      <td>NaN</td>\n",
              "      <td>NaN</td>\n",
              "    </tr>\n",
              "    <tr>\n",
              "      <th>Hammersmith and Fulham</th>\n",
              "      <td>NaN</td>\n",
              "      <td>NaN</td>\n",
              "      <td>7.4</td>\n",
              "      <td>NaN</td>\n",
              "      <td>NaN</td>\n",
              "      <td>NaN</td>\n",
              "    </tr>\n",
              "    <tr>\n",
              "      <th>Haringey</th>\n",
              "      <td>NaN</td>\n",
              "      <td>NaN</td>\n",
              "      <td>7.2</td>\n",
              "      <td>NaN</td>\n",
              "      <td>NaN</td>\n",
              "      <td>NaN</td>\n",
              "    </tr>\n",
              "    <tr>\n",
              "      <th>Harrow</th>\n",
              "      <td>NaN</td>\n",
              "      <td>NaN</td>\n",
              "      <td>7.3</td>\n",
              "      <td>NaN</td>\n",
              "      <td>NaN</td>\n",
              "      <td>NaN</td>\n",
              "    </tr>\n",
              "    <tr>\n",
              "      <th>Havering</th>\n",
              "      <td>NaN</td>\n",
              "      <td>NaN</td>\n",
              "      <td>NaN</td>\n",
              "      <td>NaN</td>\n",
              "      <td>7.4</td>\n",
              "      <td>NaN</td>\n",
              "    </tr>\n",
              "    <tr>\n",
              "      <th>Hillingdon</th>\n",
              "      <td>NaN</td>\n",
              "      <td>7.4</td>\n",
              "      <td>NaN</td>\n",
              "      <td>NaN</td>\n",
              "      <td>NaN</td>\n",
              "      <td>NaN</td>\n",
              "    </tr>\n",
              "    <tr>\n",
              "      <th>Hounslow</th>\n",
              "      <td>NaN</td>\n",
              "      <td>NaN</td>\n",
              "      <td>7.3</td>\n",
              "      <td>NaN</td>\n",
              "      <td>NaN</td>\n",
              "      <td>NaN</td>\n",
              "    </tr>\n",
              "    <tr>\n",
              "      <th>Islington</th>\n",
              "      <td>NaN</td>\n",
              "      <td>NaN</td>\n",
              "      <td>7.2</td>\n",
              "      <td>NaN</td>\n",
              "      <td>NaN</td>\n",
              "      <td>NaN</td>\n",
              "    </tr>\n",
              "    <tr>\n",
              "      <th>Kensington and Chelsea</th>\n",
              "      <td>NaN</td>\n",
              "      <td>7.6</td>\n",
              "      <td>NaN</td>\n",
              "      <td>NaN</td>\n",
              "      <td>NaN</td>\n",
              "      <td>NaN</td>\n",
              "    </tr>\n",
              "    <tr>\n",
              "      <th>Kingston upon Thames</th>\n",
              "      <td>NaN</td>\n",
              "      <td>7.3</td>\n",
              "      <td>NaN</td>\n",
              "      <td>NaN</td>\n",
              "      <td>NaN</td>\n",
              "      <td>NaN</td>\n",
              "    </tr>\n",
              "    <tr>\n",
              "      <th>Lambeth</th>\n",
              "      <td>NaN</td>\n",
              "      <td>NaN</td>\n",
              "      <td>7.1</td>\n",
              "      <td>NaN</td>\n",
              "      <td>NaN</td>\n",
              "      <td>NaN</td>\n",
              "    </tr>\n",
              "    <tr>\n",
              "      <th>Lewisham</th>\n",
              "      <td>NaN</td>\n",
              "      <td>NaN</td>\n",
              "      <td>7.2</td>\n",
              "      <td>NaN</td>\n",
              "      <td>NaN</td>\n",
              "      <td>NaN</td>\n",
              "    </tr>\n",
              "    <tr>\n",
              "      <th>Merton</th>\n",
              "      <td>NaN</td>\n",
              "      <td>NaN</td>\n",
              "      <td>7.3</td>\n",
              "      <td>NaN</td>\n",
              "      <td>NaN</td>\n",
              "      <td>NaN</td>\n",
              "    </tr>\n",
              "    <tr>\n",
              "      <th>Newham</th>\n",
              "      <td>NaN</td>\n",
              "      <td>NaN</td>\n",
              "      <td>7.1</td>\n",
              "      <td>NaN</td>\n",
              "      <td>NaN</td>\n",
              "      <td>NaN</td>\n",
              "    </tr>\n",
              "    <tr>\n",
              "      <th>Redbridge</th>\n",
              "      <td>NaN</td>\n",
              "      <td>NaN</td>\n",
              "      <td>7.3</td>\n",
              "      <td>NaN</td>\n",
              "      <td>NaN</td>\n",
              "      <td>NaN</td>\n",
              "    </tr>\n",
              "    <tr>\n",
              "      <th>Richmond upon Thames</th>\n",
              "      <td>NaN</td>\n",
              "      <td>7.5</td>\n",
              "      <td>NaN</td>\n",
              "      <td>NaN</td>\n",
              "      <td>NaN</td>\n",
              "      <td>NaN</td>\n",
              "    </tr>\n",
              "    <tr>\n",
              "      <th>Southwark</th>\n",
              "      <td>NaN</td>\n",
              "      <td>NaN</td>\n",
              "      <td>7.5</td>\n",
              "      <td>NaN</td>\n",
              "      <td>NaN</td>\n",
              "      <td>NaN</td>\n",
              "    </tr>\n",
              "    <tr>\n",
              "      <th>Sutton</th>\n",
              "      <td>NaN</td>\n",
              "      <td>NaN</td>\n",
              "      <td>NaN</td>\n",
              "      <td>7.5</td>\n",
              "      <td>NaN</td>\n",
              "      <td>NaN</td>\n",
              "    </tr>\n",
              "    <tr>\n",
              "      <th>Tower Hamlets</th>\n",
              "      <td>NaN</td>\n",
              "      <td>NaN</td>\n",
              "      <td>NaN</td>\n",
              "      <td>NaN</td>\n",
              "      <td>NaN</td>\n",
              "      <td>7.2</td>\n",
              "    </tr>\n",
              "    <tr>\n",
              "      <th>Waltham Forest</th>\n",
              "      <td>NaN</td>\n",
              "      <td>NaN</td>\n",
              "      <td>7.2</td>\n",
              "      <td>NaN</td>\n",
              "      <td>NaN</td>\n",
              "      <td>NaN</td>\n",
              "    </tr>\n",
              "    <tr>\n",
              "      <th>Wandsworth</th>\n",
              "      <td>NaN</td>\n",
              "      <td>7.4</td>\n",
              "      <td>NaN</td>\n",
              "      <td>NaN</td>\n",
              "      <td>NaN</td>\n",
              "      <td>NaN</td>\n",
              "    </tr>\n",
              "    <tr>\n",
              "      <th>Westminster</th>\n",
              "      <td>NaN</td>\n",
              "      <td>7.3</td>\n",
              "      <td>NaN</td>\n",
              "      <td>NaN</td>\n",
              "      <td>NaN</td>\n",
              "      <td>NaN</td>\n",
              "    </tr>\n",
              "  </tbody>\n",
              "</table>\n",
              "</div>\n",
              "    <div class=\"colab-df-buttons\">\n",
              "\n",
              "  <div class=\"colab-df-container\">\n",
              "    <button class=\"colab-df-convert\" onclick=\"convertToInteractive('df-dfa30921-6eab-4a14-9cdf-6ab068503da7')\"\n",
              "            title=\"Convert this dataframe to an interactive table.\"\n",
              "            style=\"display:none;\">\n",
              "\n",
              "  <svg xmlns=\"http://www.w3.org/2000/svg\" height=\"24px\" viewBox=\"0 -960 960 960\">\n",
              "    <path d=\"M120-120v-720h720v720H120Zm60-500h600v-160H180v160Zm220 220h160v-160H400v160Zm0 220h160v-160H400v160ZM180-400h160v-160H180v160Zm440 0h160v-160H620v160ZM180-180h160v-160H180v160Zm440 0h160v-160H620v160Z\"/>\n",
              "  </svg>\n",
              "    </button>\n",
              "\n",
              "  <style>\n",
              "    .colab-df-container {\n",
              "      display:flex;\n",
              "      gap: 12px;\n",
              "    }\n",
              "\n",
              "    .colab-df-convert {\n",
              "      background-color: #E8F0FE;\n",
              "      border: none;\n",
              "      border-radius: 50%;\n",
              "      cursor: pointer;\n",
              "      display: none;\n",
              "      fill: #1967D2;\n",
              "      height: 32px;\n",
              "      padding: 0 0 0 0;\n",
              "      width: 32px;\n",
              "    }\n",
              "\n",
              "    .colab-df-convert:hover {\n",
              "      background-color: #E2EBFA;\n",
              "      box-shadow: 0px 1px 2px rgba(60, 64, 67, 0.3), 0px 1px 3px 1px rgba(60, 64, 67, 0.15);\n",
              "      fill: #174EA6;\n",
              "    }\n",
              "\n",
              "    .colab-df-buttons div {\n",
              "      margin-bottom: 4px;\n",
              "    }\n",
              "\n",
              "    [theme=dark] .colab-df-convert {\n",
              "      background-color: #3B4455;\n",
              "      fill: #D2E3FC;\n",
              "    }\n",
              "\n",
              "    [theme=dark] .colab-df-convert:hover {\n",
              "      background-color: #434B5C;\n",
              "      box-shadow: 0px 1px 3px 1px rgba(0, 0, 0, 0.15);\n",
              "      filter: drop-shadow(0px 1px 2px rgba(0, 0, 0, 0.3));\n",
              "      fill: #FFFFFF;\n",
              "    }\n",
              "  </style>\n",
              "\n",
              "    <script>\n",
              "      const buttonEl =\n",
              "        document.querySelector('#df-dfa30921-6eab-4a14-9cdf-6ab068503da7 button.colab-df-convert');\n",
              "      buttonEl.style.display =\n",
              "        google.colab.kernel.accessAllowed ? 'block' : 'none';\n",
              "\n",
              "      async function convertToInteractive(key) {\n",
              "        const element = document.querySelector('#df-dfa30921-6eab-4a14-9cdf-6ab068503da7');\n",
              "        const dataTable =\n",
              "          await google.colab.kernel.invokeFunction('convertToInteractive',\n",
              "                                                    [key], {});\n",
              "        if (!dataTable) return;\n",
              "\n",
              "        const docLinkHtml = 'Like what you see? Visit the ' +\n",
              "          '<a target=\"_blank\" href=https://colab.research.google.com/notebooks/data_table.ipynb>data table notebook</a>'\n",
              "          + ' to learn more about interactive tables.';\n",
              "        element.innerHTML = '';\n",
              "        dataTable['output_type'] = 'display_data';\n",
              "        await google.colab.output.renderOutput(dataTable, element);\n",
              "        const docLink = document.createElement('div');\n",
              "        docLink.innerHTML = docLinkHtml;\n",
              "        element.appendChild(docLink);\n",
              "      }\n",
              "    </script>\n",
              "  </div>\n",
              "\n",
              "\n",
              "<div id=\"df-f9395cd7-1aa3-4123-abdd-477ecd4f50bd\">\n",
              "  <button class=\"colab-df-quickchart\" onclick=\"quickchart('df-f9395cd7-1aa3-4123-abdd-477ecd4f50bd')\"\n",
              "            title=\"Suggest charts\"\n",
              "            style=\"display:none;\">\n",
              "\n",
              "<svg xmlns=\"http://www.w3.org/2000/svg\" height=\"24px\"viewBox=\"0 0 24 24\"\n",
              "     width=\"24px\">\n",
              "    <g>\n",
              "        <path d=\"M19 3H5c-1.1 0-2 .9-2 2v14c0 1.1.9 2 2 2h14c1.1 0 2-.9 2-2V5c0-1.1-.9-2-2-2zM9 17H7v-7h2v7zm4 0h-2V7h2v10zm4 0h-2v-4h2v4z\"/>\n",
              "    </g>\n",
              "</svg>\n",
              "  </button>\n",
              "\n",
              "<style>\n",
              "  .colab-df-quickchart {\n",
              "      --bg-color: #E8F0FE;\n",
              "      --fill-color: #1967D2;\n",
              "      --hover-bg-color: #E2EBFA;\n",
              "      --hover-fill-color: #174EA6;\n",
              "      --disabled-fill-color: #AAA;\n",
              "      --disabled-bg-color: #DDD;\n",
              "  }\n",
              "\n",
              "  [theme=dark] .colab-df-quickchart {\n",
              "      --bg-color: #3B4455;\n",
              "      --fill-color: #D2E3FC;\n",
              "      --hover-bg-color: #434B5C;\n",
              "      --hover-fill-color: #FFFFFF;\n",
              "      --disabled-bg-color: #3B4455;\n",
              "      --disabled-fill-color: #666;\n",
              "  }\n",
              "\n",
              "  .colab-df-quickchart {\n",
              "    background-color: var(--bg-color);\n",
              "    border: none;\n",
              "    border-radius: 50%;\n",
              "    cursor: pointer;\n",
              "    display: none;\n",
              "    fill: var(--fill-color);\n",
              "    height: 32px;\n",
              "    padding: 0;\n",
              "    width: 32px;\n",
              "  }\n",
              "\n",
              "  .colab-df-quickchart:hover {\n",
              "    background-color: var(--hover-bg-color);\n",
              "    box-shadow: 0 1px 2px rgba(60, 64, 67, 0.3), 0 1px 3px 1px rgba(60, 64, 67, 0.15);\n",
              "    fill: var(--button-hover-fill-color);\n",
              "  }\n",
              "\n",
              "  .colab-df-quickchart-complete:disabled,\n",
              "  .colab-df-quickchart-complete:disabled:hover {\n",
              "    background-color: var(--disabled-bg-color);\n",
              "    fill: var(--disabled-fill-color);\n",
              "    box-shadow: none;\n",
              "  }\n",
              "\n",
              "  .colab-df-spinner {\n",
              "    border: 2px solid var(--fill-color);\n",
              "    border-color: transparent;\n",
              "    border-bottom-color: var(--fill-color);\n",
              "    animation:\n",
              "      spin 1s steps(1) infinite;\n",
              "  }\n",
              "\n",
              "  @keyframes spin {\n",
              "    0% {\n",
              "      border-color: transparent;\n",
              "      border-bottom-color: var(--fill-color);\n",
              "      border-left-color: var(--fill-color);\n",
              "    }\n",
              "    20% {\n",
              "      border-color: transparent;\n",
              "      border-left-color: var(--fill-color);\n",
              "      border-top-color: var(--fill-color);\n",
              "    }\n",
              "    30% {\n",
              "      border-color: transparent;\n",
              "      border-left-color: var(--fill-color);\n",
              "      border-top-color: var(--fill-color);\n",
              "      border-right-color: var(--fill-color);\n",
              "    }\n",
              "    40% {\n",
              "      border-color: transparent;\n",
              "      border-right-color: var(--fill-color);\n",
              "      border-top-color: var(--fill-color);\n",
              "    }\n",
              "    60% {\n",
              "      border-color: transparent;\n",
              "      border-right-color: var(--fill-color);\n",
              "    }\n",
              "    80% {\n",
              "      border-color: transparent;\n",
              "      border-right-color: var(--fill-color);\n",
              "      border-bottom-color: var(--fill-color);\n",
              "    }\n",
              "    90% {\n",
              "      border-color: transparent;\n",
              "      border-bottom-color: var(--fill-color);\n",
              "    }\n",
              "  }\n",
              "</style>\n",
              "\n",
              "  <script>\n",
              "    async function quickchart(key) {\n",
              "      const quickchartButtonEl =\n",
              "        document.querySelector('#' + key + ' button');\n",
              "      quickchartButtonEl.disabled = true;  // To prevent multiple clicks.\n",
              "      quickchartButtonEl.classList.add('colab-df-spinner');\n",
              "      try {\n",
              "        const charts = await google.colab.kernel.invokeFunction(\n",
              "            'suggestCharts', [key], {});\n",
              "      } catch (error) {\n",
              "        console.error('Error during call to suggestCharts:', error);\n",
              "      }\n",
              "      quickchartButtonEl.classList.remove('colab-df-spinner');\n",
              "      quickchartButtonEl.classList.add('colab-df-quickchart-complete');\n",
              "    }\n",
              "    (() => {\n",
              "      let quickchartButtonEl =\n",
              "        document.querySelector('#df-f9395cd7-1aa3-4123-abdd-477ecd4f50bd button');\n",
              "      quickchartButtonEl.style.display =\n",
              "        google.colab.kernel.accessAllowed ? 'block' : 'none';\n",
              "    })();\n",
              "  </script>\n",
              "</div>\n",
              "\n",
              "  <div id=\"id_f07bb4ee-0b4c-4cff-9827-4665f3c28ad6\">\n",
              "    <style>\n",
              "      .colab-df-generate {\n",
              "        background-color: #E8F0FE;\n",
              "        border: none;\n",
              "        border-radius: 50%;\n",
              "        cursor: pointer;\n",
              "        display: none;\n",
              "        fill: #1967D2;\n",
              "        height: 32px;\n",
              "        padding: 0 0 0 0;\n",
              "        width: 32px;\n",
              "      }\n",
              "\n",
              "      .colab-df-generate:hover {\n",
              "        background-color: #E2EBFA;\n",
              "        box-shadow: 0px 1px 2px rgba(60, 64, 67, 0.3), 0px 1px 3px 1px rgba(60, 64, 67, 0.15);\n",
              "        fill: #174EA6;\n",
              "      }\n",
              "\n",
              "      [theme=dark] .colab-df-generate {\n",
              "        background-color: #3B4455;\n",
              "        fill: #D2E3FC;\n",
              "      }\n",
              "\n",
              "      [theme=dark] .colab-df-generate:hover {\n",
              "        background-color: #434B5C;\n",
              "        box-shadow: 0px 1px 3px 1px rgba(0, 0, 0, 0.15);\n",
              "        filter: drop-shadow(0px 1px 2px rgba(0, 0, 0, 0.3));\n",
              "        fill: #FFFFFF;\n",
              "      }\n",
              "    </style>\n",
              "    <button class=\"colab-df-generate\" onclick=\"generateWithVariable('boros_pivot3')\"\n",
              "            title=\"Generate code using this dataframe.\"\n",
              "            style=\"display:none;\">\n",
              "\n",
              "  <svg xmlns=\"http://www.w3.org/2000/svg\" height=\"24px\"viewBox=\"0 0 24 24\"\n",
              "       width=\"24px\">\n",
              "    <path d=\"M7,19H8.4L18.45,9,17,7.55,7,17.6ZM5,21V16.75L18.45,3.32a2,2,0,0,1,2.83,0l1.4,1.43a1.91,1.91,0,0,1,.58,1.4,1.91,1.91,0,0,1-.58,1.4L9.25,21ZM18.45,9,17,7.55Zm-12,3A5.31,5.31,0,0,0,4.9,8.1,5.31,5.31,0,0,0,1,6.5,5.31,5.31,0,0,0,4.9,4.9,5.31,5.31,0,0,0,6.5,1,5.31,5.31,0,0,0,8.1,4.9,5.31,5.31,0,0,0,12,6.5,5.46,5.46,0,0,0,6.5,12Z\"/>\n",
              "  </svg>\n",
              "    </button>\n",
              "    <script>\n",
              "      (() => {\n",
              "      const buttonEl =\n",
              "        document.querySelector('#id_f07bb4ee-0b4c-4cff-9827-4665f3c28ad6 button.colab-df-generate');\n",
              "      buttonEl.style.display =\n",
              "        google.colab.kernel.accessAllowed ? 'block' : 'none';\n",
              "\n",
              "      buttonEl.onclick = () => {\n",
              "        google.colab.notebook.generateWithVariable('boros_pivot3');\n",
              "      }\n",
              "      })();\n",
              "    </script>\n",
              "  </div>\n",
              "\n",
              "    </div>\n",
              "  </div>\n"
            ],
            "application/vnd.google.colaboratory.intrinsic+json": {
              "type": "dataframe",
              "variable_name": "boros_pivot3",
              "repr_error": "Out of range float values are not JSON compliant: nan"
            }
          },
          "metadata": {},
          "execution_count": 123
        }
      ],
      "source": [
        "#how does life satifaction differ according to the leading polictical party?\n",
        "boros_pivot3 = boroughs.pivot(index = 'Area_name', columns ='Council', values = 'Life_satisfaction')\n",
        "boros_pivot3"
      ]
    },
    {
      "cell_type": "code",
      "execution_count": null,
      "id": "090720ed",
      "metadata": {
        "id": "090720ed"
      },
      "outputs": [],
      "source": [
        "#does employment look different for areas with different migrant populations?\n",
        "boros_pivot4 = boroughs.pivot(index = 'Area_name', columns ='Largest_migrant_population', values = 'Employment_rate')\n",
        "boros_pivot4"
      ]
    },
    {
      "cell_type": "code",
      "execution_count": null,
      "id": "173c2e96",
      "metadata": {
        "id": "173c2e96"
      },
      "outputs": [],
      "source": [
        "#now try out some of your own!"
      ]
    },
    {
      "cell_type": "markdown",
      "id": "xlaMHkISfOfI",
      "metadata": {
        "id": "xlaMHkISfOfI"
      },
      "source": [
        "<br><br><br>\n",
        "## Finishing Up"
      ]
    },
    {
      "cell_type": "markdown",
      "id": "vRCqIDNrfX7m",
      "metadata": {
        "id": "vRCqIDNrfX7m"
      },
      "source": [
        "While Colab saves our session temporarily online, we need to make sure we download our file in order to come back to our updates later. This is easy to do- just go to File > Download > .ipynb to keep your Python notebooks permanently.\n",
        "<br>\n",
        "If you're a Github user, or want to start building your own portfolio of your Python skills, you can use File > Save a copy in Github, select your repository and filepath, and off you go! (If you're not sure what any of this Github talk means- don't worry! We'll be coming back to this!)"
      ]
    },
    {
      "cell_type": "markdown",
      "id": "2fde6a8b",
      "metadata": {
        "id": "2fde6a8b"
      },
      "source": [
        "<br><br><br>\n",
        "## Further Questions"
      ]
    },
    {
      "cell_type": "markdown",
      "id": "361dc8c2",
      "metadata": {
        "id": "361dc8c2"
      },
      "source": [
        "<br>\n",
        "<br>\n",
        "\n",
        "__Question 1:__ Pick a variable that seems most interesting to you, assign it to a variable, and have a look at different descriptors we've used to get more information about your variable(s) of choice. Try adding some comments and Markdown cells to record what you've done."
      ]
    },
    {
      "cell_type": "code",
      "source": [
        "green_space = boroughs.groupby(['Area_name', 'Greenspace']).size()\n",
        "green_space"
      ],
      "metadata": {
        "colab": {
          "base_uri": "https://localhost:8080/",
          "height": 1000
        },
        "id": "VovQ6Zu11k_-",
        "outputId": "047f43ca-c63b-4f9d-d431-f9a5e90fc724"
      },
      "id": "VovQ6Zu11k_-",
      "execution_count": null,
      "outputs": [
        {
          "output_type": "execute_result",
          "data": {
            "text/plain": [
              "Area_name               Greenspace\n",
              "Barking and Dagenham    33.6          1\n",
              "Barnet                  41.3          1\n",
              "Bexley                  31.7          1\n",
              "Brent                   21.9          1\n",
              "Bromley                 57.8          1\n",
              "Camden                  24.8          1\n",
              "City of London          4.8           1\n",
              "Croydon                 37.1          1\n",
              "Ealing                  30.9          1\n",
              "Enfield                 45.6          1\n",
              "Greenwich               34.4          1\n",
              "Hackney                 23.2          1\n",
              "Hammersmith and Fulham  19.1          1\n",
              "Haringey                25.5          1\n",
              "Harrow                  34.6          1\n",
              "Havering                59.3          1\n",
              "Hillingdon              49.2          1\n",
              "Hounslow                39.6          1\n",
              "Islington               12.4          1\n",
              "Kensington and Chelsea  15.1          1\n",
              "Kingston upon Thames    36.4          1\n",
              "Lambeth                 17.3          1\n",
              "Lewisham                22.5          1\n",
              "Merton                  34.6          1\n",
              "Newham                  23.9          1\n",
              "Redbridge               40.6          1\n",
              "Richmond upon Thames    50.8          1\n",
              "Southwark               24.9          1\n",
              "Sutton                  32.0          1\n",
              "Tower Hamlets           15.2          1\n",
              "Waltham Forest          31.4          1\n",
              "Wandsworth              26.9          1\n",
              "Westminster             38.2          1\n",
              "dtype: int64"
            ],
            "text/html": [
              "<div>\n",
              "<style scoped>\n",
              "    .dataframe tbody tr th:only-of-type {\n",
              "        vertical-align: middle;\n",
              "    }\n",
              "\n",
              "    .dataframe tbody tr th {\n",
              "        vertical-align: top;\n",
              "    }\n",
              "\n",
              "    .dataframe thead th {\n",
              "        text-align: right;\n",
              "    }\n",
              "</style>\n",
              "<table border=\"1\" class=\"dataframe\">\n",
              "  <thead>\n",
              "    <tr style=\"text-align: right;\">\n",
              "      <th></th>\n",
              "      <th></th>\n",
              "      <th>0</th>\n",
              "    </tr>\n",
              "    <tr>\n",
              "      <th>Area_name</th>\n",
              "      <th>Greenspace</th>\n",
              "      <th></th>\n",
              "    </tr>\n",
              "  </thead>\n",
              "  <tbody>\n",
              "    <tr>\n",
              "      <th>Barking and Dagenham</th>\n",
              "      <th>33.6</th>\n",
              "      <td>1</td>\n",
              "    </tr>\n",
              "    <tr>\n",
              "      <th>Barnet</th>\n",
              "      <th>41.3</th>\n",
              "      <td>1</td>\n",
              "    </tr>\n",
              "    <tr>\n",
              "      <th>Bexley</th>\n",
              "      <th>31.7</th>\n",
              "      <td>1</td>\n",
              "    </tr>\n",
              "    <tr>\n",
              "      <th>Brent</th>\n",
              "      <th>21.9</th>\n",
              "      <td>1</td>\n",
              "    </tr>\n",
              "    <tr>\n",
              "      <th>Bromley</th>\n",
              "      <th>57.8</th>\n",
              "      <td>1</td>\n",
              "    </tr>\n",
              "    <tr>\n",
              "      <th>Camden</th>\n",
              "      <th>24.8</th>\n",
              "      <td>1</td>\n",
              "    </tr>\n",
              "    <tr>\n",
              "      <th>City of London</th>\n",
              "      <th>4.8</th>\n",
              "      <td>1</td>\n",
              "    </tr>\n",
              "    <tr>\n",
              "      <th>Croydon</th>\n",
              "      <th>37.1</th>\n",
              "      <td>1</td>\n",
              "    </tr>\n",
              "    <tr>\n",
              "      <th>Ealing</th>\n",
              "      <th>30.9</th>\n",
              "      <td>1</td>\n",
              "    </tr>\n",
              "    <tr>\n",
              "      <th>Enfield</th>\n",
              "      <th>45.6</th>\n",
              "      <td>1</td>\n",
              "    </tr>\n",
              "    <tr>\n",
              "      <th>Greenwich</th>\n",
              "      <th>34.4</th>\n",
              "      <td>1</td>\n",
              "    </tr>\n",
              "    <tr>\n",
              "      <th>Hackney</th>\n",
              "      <th>23.2</th>\n",
              "      <td>1</td>\n",
              "    </tr>\n",
              "    <tr>\n",
              "      <th>Hammersmith and Fulham</th>\n",
              "      <th>19.1</th>\n",
              "      <td>1</td>\n",
              "    </tr>\n",
              "    <tr>\n",
              "      <th>Haringey</th>\n",
              "      <th>25.5</th>\n",
              "      <td>1</td>\n",
              "    </tr>\n",
              "    <tr>\n",
              "      <th>Harrow</th>\n",
              "      <th>34.6</th>\n",
              "      <td>1</td>\n",
              "    </tr>\n",
              "    <tr>\n",
              "      <th>Havering</th>\n",
              "      <th>59.3</th>\n",
              "      <td>1</td>\n",
              "    </tr>\n",
              "    <tr>\n",
              "      <th>Hillingdon</th>\n",
              "      <th>49.2</th>\n",
              "      <td>1</td>\n",
              "    </tr>\n",
              "    <tr>\n",
              "      <th>Hounslow</th>\n",
              "      <th>39.6</th>\n",
              "      <td>1</td>\n",
              "    </tr>\n",
              "    <tr>\n",
              "      <th>Islington</th>\n",
              "      <th>12.4</th>\n",
              "      <td>1</td>\n",
              "    </tr>\n",
              "    <tr>\n",
              "      <th>Kensington and Chelsea</th>\n",
              "      <th>15.1</th>\n",
              "      <td>1</td>\n",
              "    </tr>\n",
              "    <tr>\n",
              "      <th>Kingston upon Thames</th>\n",
              "      <th>36.4</th>\n",
              "      <td>1</td>\n",
              "    </tr>\n",
              "    <tr>\n",
              "      <th>Lambeth</th>\n",
              "      <th>17.3</th>\n",
              "      <td>1</td>\n",
              "    </tr>\n",
              "    <tr>\n",
              "      <th>Lewisham</th>\n",
              "      <th>22.5</th>\n",
              "      <td>1</td>\n",
              "    </tr>\n",
              "    <tr>\n",
              "      <th>Merton</th>\n",
              "      <th>34.6</th>\n",
              "      <td>1</td>\n",
              "    </tr>\n",
              "    <tr>\n",
              "      <th>Newham</th>\n",
              "      <th>23.9</th>\n",
              "      <td>1</td>\n",
              "    </tr>\n",
              "    <tr>\n",
              "      <th>Redbridge</th>\n",
              "      <th>40.6</th>\n",
              "      <td>1</td>\n",
              "    </tr>\n",
              "    <tr>\n",
              "      <th>Richmond upon Thames</th>\n",
              "      <th>50.8</th>\n",
              "      <td>1</td>\n",
              "    </tr>\n",
              "    <tr>\n",
              "      <th>Southwark</th>\n",
              "      <th>24.9</th>\n",
              "      <td>1</td>\n",
              "    </tr>\n",
              "    <tr>\n",
              "      <th>Sutton</th>\n",
              "      <th>32.0</th>\n",
              "      <td>1</td>\n",
              "    </tr>\n",
              "    <tr>\n",
              "      <th>Tower Hamlets</th>\n",
              "      <th>15.2</th>\n",
              "      <td>1</td>\n",
              "    </tr>\n",
              "    <tr>\n",
              "      <th>Waltham Forest</th>\n",
              "      <th>31.4</th>\n",
              "      <td>1</td>\n",
              "    </tr>\n",
              "    <tr>\n",
              "      <th>Wandsworth</th>\n",
              "      <th>26.9</th>\n",
              "      <td>1</td>\n",
              "    </tr>\n",
              "    <tr>\n",
              "      <th>Westminster</th>\n",
              "      <th>38.2</th>\n",
              "      <td>1</td>\n",
              "    </tr>\n",
              "  </tbody>\n",
              "</table>\n",
              "</div><br><label><b>dtype:</b> int64</label>"
            ]
          },
          "metadata": {},
          "execution_count": 138
        }
      ]
    },
    {
      "cell_type": "markdown",
      "id": "1df66532",
      "metadata": {
        "id": "1df66532"
      },
      "source": [
        "__Question 2:__ Create histograms of each of the numerical variables. Compare the distributions. Which looks the most similar? Why do you think this might be?"
      ]
    },
    {
      "cell_type": "code",
      "source": [
        "boroughs[['Area_name', 'Greenspace']].hist()"
      ],
      "metadata": {
        "colab": {
          "base_uri": "https://localhost:8080/",
          "height": 469
        },
        "id": "6FyGXeKN4Cua",
        "outputId": "14a7fb54-fc17-446c-f888-ce63e885e2ab"
      },
      "id": "6FyGXeKN4Cua",
      "execution_count": null,
      "outputs": [
        {
          "output_type": "execute_result",
          "data": {
            "text/plain": [
              "array([[<Axes: title={'center': 'Greenspace'}>]], dtype=object)"
            ]
          },
          "metadata": {},
          "execution_count": 141
        },
        {
          "output_type": "display_data",
          "data": {
            "text/plain": [
              "<Figure size 640x480 with 1 Axes>"
            ],
            "image/png": "[encoded data removed]"
          },
          "metadata": {}
        }
      ]
    },
    {
      "cell_type": "markdown",
      "id": "2a83a5b0",
      "metadata": {
        "id": "2a83a5b0"
      },
      "source": [
        "__Question 3:__ If you're up for a challenge, have a look through [this tutorial](https://pandas.pydata.org/docs/getting_started/intro_tutorials/03_subset_data.html) to create a subset of the data for Inner London. Then use what we've learnt above to answer the following:\n",
        "_a:_ What is the average house price?\n",
        "_b:_ Which Borough has the highest emissions?\n",
        "_c:_ How many of each Council Party are there?\n",
        "_d:_ Can you make a histogram of life Satisfaction?"
      ]
    },
    {
      "cell_type": "code",
      "source": [
        "boroughs['Life_satisfaction'].hist(bins=10, grid=True, color='skyblue', alpha=0.7, figsize=(10, 6))\n",
        "\n",
        "\n",
        "plt.title('Distribution of Life Satisfaction in Inner London Boroughs', fontsize=14)\n",
        "plt.xlabel('Life Satisfaction Score', fontsize=12)\n",
        "plt.ylabel('Number of Boroughs', fontsize=12)\n",
        "\n",
        "\n",
        "plt.show()"
      ],
      "metadata": {
        "id": "va2clLm98jCC",
        "outputId": "b726a82b-06cc-43c5-fb02-a94ad2a9e39f",
        "colab": {
          "base_uri": "https://localhost:8080/",
          "height": 569
        }
      },
      "id": "va2clLm98jCC",
      "execution_count": null,
      "outputs": [
        {
          "output_type": "display_data",
          "data": {
            "text/plain": [
              "<Figure size 1000x600 with 1 Axes>"
            ],
            "image/png": "[encoded data removed]"
          },
          "metadata": {}
        }
      ]
    }
  ],
  "metadata": {
    "colab": {
      "collapsed_sections": [
        "247c7bb1",
        "809118cf",
        "82a15b4f",
        "a0e50af8",
        "f28a64ee",
        "bf007b60",
        "6ac87be3",
        "bLg9p3DgeAyA",
        "3544b5d1"
      ],
      "provenance": [],
      "include_colab_link": true
    },
    "kernelspec": {
      "display_name": "Python 3 (ipykernel)",
      "language": "python",
      "name": "python3"
    },
    "language_info": {
      "codemirror_mode": {
        "name": "ipython",
        "version": 3
      },
      "file_extension": ".py",
      "mimetype": "text/x-python",
      "name": "python",
      "nbconvert_exporter": "python",
      "pygments_lexer": "ipython3",
      "version": "3.12.4"
    }
  },
  "nbformat": 4,
  "nbformat_minor": 5
}